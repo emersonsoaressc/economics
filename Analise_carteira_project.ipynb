{
 "metadata": {
  "language_info": {
   "codemirror_mode": {
    "name": "ipython",
    "version": 3
   },
   "file_extension": ".py",
   "mimetype": "text/x-python",
   "name": "python",
   "nbconvert_exporter": "python",
   "pygments_lexer": "ipython3",
   "version": "3.8.5"
  },
  "orig_nbformat": 2,
  "kernelspec": {
   "name": "python385jvsc74a57bd0724fa9851ab0f3c363ea6c751f3ea040b48988fb5067ff51ac6e585b29d3905f",
   "display_name": "Python 3.8.5 64-bit ('base': conda)"
  }
 },
 "nbformat": 4,
 "nbformat_minor": 2,
 "cells": [
  {
   "cell_type": "code",
   "execution_count": 21,
   "metadata": {},
   "outputs": [],
   "source": [
    "import pandas as pd\n",
    "import numpy as np \n",
    "from pandas_datareader import data\n",
    "from func_pyeconomics import graf_plotly"
   ]
  },
  {
   "cell_type": "code",
   "execution_count": 22,
   "metadata": {},
   "outputs": [],
   "source": [
    "ativos = ['CMIG4.SA','ELET3.SA','EGIE3.SA','EQTL3.SA','TAEE3.SA','TRPL4.SA']"
   ]
  },
  {
   "source": [
    "dataframe = pd.DataFrame()\n",
    "for i in ativos:\n",
    "    frame = data.DataReader(i, data_source='yahoo', start='2015-01-01', end='2022-01-01')\n",
    "    frame = frame['Adj Close']\n",
    "    frame = pd.DataFrame(frame)\n",
    "    frame = frame.rename(columns={'Adj Close':f'{i}'})\n",
    "    dataframe = pd.concat([frame, dataframe], axis = 1)"
   ],
   "cell_type": "markdown",
   "metadata": {}
  },
  {
   "source": [
    "### Normalização da carteira"
   ],
   "cell_type": "markdown",
   "metadata": {}
  },
  {
   "source": [
    "df_normalizado = pd.DataFrame()\n",
    "for i in dataframe.columns[0:]:\n",
    "    df_normalizado[i] = dataframe[i] / dataframe[i][0]\n",
    "df_carteira = df_normalizado.drop(columns='BOVA11.SA')\n",
    "benchmark = pd.DataFrame(df_normalizado['BOVA11.SA'])\n",
    "benchmark"
   ],
   "cell_type": "markdown",
   "metadata": {}
  },
  {
   "source": [
    "df_carteira['CARTEIRA'] = df_carteira.sum(axis=1) / len(df_carteira.columns)\n",
    "carteira = pd.DataFrame(df_carteira['CARTEIRA'])"
   ],
   "cell_type": "markdown",
   "metadata": {}
  },
  {
   "source": [
    "cart_bench = pd.concat([carteira, benchmark], axis = 1)"
   ],
   "cell_type": "markdown",
   "metadata": {}
  },
  {
   "source": [
    "graf_plotly(cart_bench)"
   ],
   "cell_type": "markdown",
   "metadata": {}
  },
  {
   "cell_type": "code",
   "execution_count": 23,
   "metadata": {},
   "outputs": [],
   "source": [
    "def gera_carteira(ativos,ano_inicio, ano_final):\n",
    "    lista_ativos = ativos + ['BOVA11.SA']\n",
    "    dataframe = pd.DataFrame()\n",
    " \n",
    "    for i in lista_ativos:\n",
    "        frame = data.DataReader(i, data_source='yahoo', start=f'{ano_inicio}-01-01')\n",
    "        frame = frame['Adj Close']\n",
    "        frame = pd.DataFrame(frame)\n",
    "        frame = frame.rename(columns={'Adj Close':f'{i}'})\n",
    "        dataframe = pd.concat([frame, dataframe], axis = 1)\n",
    "    return dataframe"
   ]
  },
  {
   "cell_type": "code",
   "execution_count": 24,
   "metadata": {},
   "outputs": [
    {
     "output_type": "execute_result",
     "data": {
      "text/plain": [
       "             BOVA11.SA   TRPL4.SA   TAEE3.SA   EQTL3.SA   EGIE3.SA   ELET3.SA  \\\n",
       "Date                                                                            \n",
       "2020-01-02  114.239998  19.821434   9.100993  22.943060  48.839165  32.668461   \n",
       "2020-01-03  113.800003  19.325247   9.263030  22.670277  49.120930  32.172184   \n",
       "2020-01-06  112.589996  19.438412   9.308040  22.699501  48.707680  32.326202   \n",
       "2020-01-07  112.239998  19.299131   9.218019  22.582596  48.810989  33.156174   \n",
       "2020-01-08  111.949997  19.151144   9.218019  22.738472  48.322601  33.635338   \n",
       "...                ...        ...        ...        ...        ...        ...   \n",
       "2021-04-20  115.480003  26.000000  13.620000  24.900000  41.799999  35.240002   \n",
       "2021-04-22  114.949997  25.920000  13.800000  25.040001  41.669998  35.720001   \n",
       "2021-04-23  115.970001  26.000000  13.570000  25.280001  42.209999  36.720001   \n",
       "2021-04-26  115.860001  25.830000  13.580000  24.900000  41.900002  37.230000   \n",
       "2021-04-27  114.779999  25.820000  13.620000  24.900000  41.240002  36.169998   \n",
       "\n",
       "             CMIG4.SA  \n",
       "Date                   \n",
       "2020-01-02  12.691110  \n",
       "2020-01-03  12.553957  \n",
       "2020-01-06  12.727682  \n",
       "2020-01-07  13.193999  \n",
       "2020-01-08  13.559736  \n",
       "...               ...  \n",
       "2021-04-20  13.500000  \n",
       "2021-04-22  13.450000  \n",
       "2021-04-23  13.500000  \n",
       "2021-04-26  13.450000  \n",
       "2021-04-27  13.330000  \n",
       "\n",
       "[323 rows x 7 columns]"
      ],
      "text/html": "<div>\n<style scoped>\n    .dataframe tbody tr th:only-of-type {\n        vertical-align: middle;\n    }\n\n    .dataframe tbody tr th {\n        vertical-align: top;\n    }\n\n    .dataframe thead th {\n        text-align: right;\n    }\n</style>\n<table border=\"1\" class=\"dataframe\">\n  <thead>\n    <tr style=\"text-align: right;\">\n      <th></th>\n      <th>BOVA11.SA</th>\n      <th>TRPL4.SA</th>\n      <th>TAEE3.SA</th>\n      <th>EQTL3.SA</th>\n      <th>EGIE3.SA</th>\n      <th>ELET3.SA</th>\n      <th>CMIG4.SA</th>\n    </tr>\n    <tr>\n      <th>Date</th>\n      <th></th>\n      <th></th>\n      <th></th>\n      <th></th>\n      <th></th>\n      <th></th>\n      <th></th>\n    </tr>\n  </thead>\n  <tbody>\n    <tr>\n      <th>2020-01-02</th>\n      <td>114.239998</td>\n      <td>19.821434</td>\n      <td>9.100993</td>\n      <td>22.943060</td>\n      <td>48.839165</td>\n      <td>32.668461</td>\n      <td>12.691110</td>\n    </tr>\n    <tr>\n      <th>2020-01-03</th>\n      <td>113.800003</td>\n      <td>19.325247</td>\n      <td>9.263030</td>\n      <td>22.670277</td>\n      <td>49.120930</td>\n      <td>32.172184</td>\n      <td>12.553957</td>\n    </tr>\n    <tr>\n      <th>2020-01-06</th>\n      <td>112.589996</td>\n      <td>19.438412</td>\n      <td>9.308040</td>\n      <td>22.699501</td>\n      <td>48.707680</td>\n      <td>32.326202</td>\n      <td>12.727682</td>\n    </tr>\n    <tr>\n      <th>2020-01-07</th>\n      <td>112.239998</td>\n      <td>19.299131</td>\n      <td>9.218019</td>\n      <td>22.582596</td>\n      <td>48.810989</td>\n      <td>33.156174</td>\n      <td>13.193999</td>\n    </tr>\n    <tr>\n      <th>2020-01-08</th>\n      <td>111.949997</td>\n      <td>19.151144</td>\n      <td>9.218019</td>\n      <td>22.738472</td>\n      <td>48.322601</td>\n      <td>33.635338</td>\n      <td>13.559736</td>\n    </tr>\n    <tr>\n      <th>...</th>\n      <td>...</td>\n      <td>...</td>\n      <td>...</td>\n      <td>...</td>\n      <td>...</td>\n      <td>...</td>\n      <td>...</td>\n    </tr>\n    <tr>\n      <th>2021-04-20</th>\n      <td>115.480003</td>\n      <td>26.000000</td>\n      <td>13.620000</td>\n      <td>24.900000</td>\n      <td>41.799999</td>\n      <td>35.240002</td>\n      <td>13.500000</td>\n    </tr>\n    <tr>\n      <th>2021-04-22</th>\n      <td>114.949997</td>\n      <td>25.920000</td>\n      <td>13.800000</td>\n      <td>25.040001</td>\n      <td>41.669998</td>\n      <td>35.720001</td>\n      <td>13.450000</td>\n    </tr>\n    <tr>\n      <th>2021-04-23</th>\n      <td>115.970001</td>\n      <td>26.000000</td>\n      <td>13.570000</td>\n      <td>25.280001</td>\n      <td>42.209999</td>\n      <td>36.720001</td>\n      <td>13.500000</td>\n    </tr>\n    <tr>\n      <th>2021-04-26</th>\n      <td>115.860001</td>\n      <td>25.830000</td>\n      <td>13.580000</td>\n      <td>24.900000</td>\n      <td>41.900002</td>\n      <td>37.230000</td>\n      <td>13.450000</td>\n    </tr>\n    <tr>\n      <th>2021-04-27</th>\n      <td>114.779999</td>\n      <td>25.820000</td>\n      <td>13.620000</td>\n      <td>24.900000</td>\n      <td>41.240002</td>\n      <td>36.169998</td>\n      <td>13.330000</td>\n    </tr>\n  </tbody>\n</table>\n<p>323 rows × 7 columns</p>\n</div>"
     },
     "metadata": {},
     "execution_count": 24
    }
   ],
   "source": [
    "teste = gera_carteira(ativos,2020,2021)\n",
    "teste"
   ]
  },
  {
   "cell_type": "code",
   "execution_count": 25,
   "metadata": {},
   "outputs": [],
   "source": [
    "def normaliza_carteira(dataframe):\n",
    "    df_normalizado = pd.DataFrame()\n",
    "    for i in dataframe.columns:\n",
    "        df_normalizado[i] = dataframe[i] / dataframe[i][0]\n",
    "    return df_normalizado"
   ]
  },
  {
   "cell_type": "code",
   "execution_count": 26,
   "metadata": {},
   "outputs": [
    {
     "output_type": "execute_result",
     "data": {
      "text/plain": [
       "            BOVA11.SA  TRPL4.SA  TAEE3.SA  EQTL3.SA  EGIE3.SA  ELET3.SA  \\\n",
       "Date                                                                      \n",
       "2020-01-02   1.000000  1.000000  1.000000  1.000000  1.000000  1.000000   \n",
       "2020-01-03   0.996149  0.974967  1.017804  0.988110  1.005769  0.984809   \n",
       "2020-01-06   0.985557  0.980676  1.022750  0.989384  0.997308  0.989523   \n",
       "2020-01-07   0.982493  0.973650  1.012859  0.984289  0.999423  1.014929   \n",
       "2020-01-08   0.979954  0.966184  1.012859  0.991083  0.989423  1.029597   \n",
       "...               ...       ...       ...       ...       ...       ...   \n",
       "2021-04-20   1.010854  1.311711  1.496540  1.085295  0.855870  1.078716   \n",
       "2021-04-22   1.006215  1.307675  1.516318  1.091398  0.853209  1.093409   \n",
       "2021-04-23   1.015144  1.311711  1.491046  1.101858  0.864265  1.124020   \n",
       "2021-04-26   1.014181  1.303135  1.492145  1.085295  0.857918  1.139631   \n",
       "2021-04-27   1.004727  1.302630  1.496540  1.085295  0.844404  1.107184   \n",
       "\n",
       "            CMIG4.SA  \n",
       "Date                  \n",
       "2020-01-02  1.000000  \n",
       "2020-01-03  0.989193  \n",
       "2020-01-06  1.002882  \n",
       "2020-01-07  1.039625  \n",
       "2020-01-08  1.068444  \n",
       "...              ...  \n",
       "2021-04-20  1.063737  \n",
       "2021-04-22  1.059797  \n",
       "2021-04-23  1.063737  \n",
       "2021-04-26  1.059797  \n",
       "2021-04-27  1.050342  \n",
       "\n",
       "[323 rows x 7 columns]"
      ],
      "text/html": "<div>\n<style scoped>\n    .dataframe tbody tr th:only-of-type {\n        vertical-align: middle;\n    }\n\n    .dataframe tbody tr th {\n        vertical-align: top;\n    }\n\n    .dataframe thead th {\n        text-align: right;\n    }\n</style>\n<table border=\"1\" class=\"dataframe\">\n  <thead>\n    <tr style=\"text-align: right;\">\n      <th></th>\n      <th>BOVA11.SA</th>\n      <th>TRPL4.SA</th>\n      <th>TAEE3.SA</th>\n      <th>EQTL3.SA</th>\n      <th>EGIE3.SA</th>\n      <th>ELET3.SA</th>\n      <th>CMIG4.SA</th>\n    </tr>\n    <tr>\n      <th>Date</th>\n      <th></th>\n      <th></th>\n      <th></th>\n      <th></th>\n      <th></th>\n      <th></th>\n      <th></th>\n    </tr>\n  </thead>\n  <tbody>\n    <tr>\n      <th>2020-01-02</th>\n      <td>1.000000</td>\n      <td>1.000000</td>\n      <td>1.000000</td>\n      <td>1.000000</td>\n      <td>1.000000</td>\n      <td>1.000000</td>\n      <td>1.000000</td>\n    </tr>\n    <tr>\n      <th>2020-01-03</th>\n      <td>0.996149</td>\n      <td>0.974967</td>\n      <td>1.017804</td>\n      <td>0.988110</td>\n      <td>1.005769</td>\n      <td>0.984809</td>\n      <td>0.989193</td>\n    </tr>\n    <tr>\n      <th>2020-01-06</th>\n      <td>0.985557</td>\n      <td>0.980676</td>\n      <td>1.022750</td>\n      <td>0.989384</td>\n      <td>0.997308</td>\n      <td>0.989523</td>\n      <td>1.002882</td>\n    </tr>\n    <tr>\n      <th>2020-01-07</th>\n      <td>0.982493</td>\n      <td>0.973650</td>\n      <td>1.012859</td>\n      <td>0.984289</td>\n      <td>0.999423</td>\n      <td>1.014929</td>\n      <td>1.039625</td>\n    </tr>\n    <tr>\n      <th>2020-01-08</th>\n      <td>0.979954</td>\n      <td>0.966184</td>\n      <td>1.012859</td>\n      <td>0.991083</td>\n      <td>0.989423</td>\n      <td>1.029597</td>\n      <td>1.068444</td>\n    </tr>\n    <tr>\n      <th>...</th>\n      <td>...</td>\n      <td>...</td>\n      <td>...</td>\n      <td>...</td>\n      <td>...</td>\n      <td>...</td>\n      <td>...</td>\n    </tr>\n    <tr>\n      <th>2021-04-20</th>\n      <td>1.010854</td>\n      <td>1.311711</td>\n      <td>1.496540</td>\n      <td>1.085295</td>\n      <td>0.855870</td>\n      <td>1.078716</td>\n      <td>1.063737</td>\n    </tr>\n    <tr>\n      <th>2021-04-22</th>\n      <td>1.006215</td>\n      <td>1.307675</td>\n      <td>1.516318</td>\n      <td>1.091398</td>\n      <td>0.853209</td>\n      <td>1.093409</td>\n      <td>1.059797</td>\n    </tr>\n    <tr>\n      <th>2021-04-23</th>\n      <td>1.015144</td>\n      <td>1.311711</td>\n      <td>1.491046</td>\n      <td>1.101858</td>\n      <td>0.864265</td>\n      <td>1.124020</td>\n      <td>1.063737</td>\n    </tr>\n    <tr>\n      <th>2021-04-26</th>\n      <td>1.014181</td>\n      <td>1.303135</td>\n      <td>1.492145</td>\n      <td>1.085295</td>\n      <td>0.857918</td>\n      <td>1.139631</td>\n      <td>1.059797</td>\n    </tr>\n    <tr>\n      <th>2021-04-27</th>\n      <td>1.004727</td>\n      <td>1.302630</td>\n      <td>1.496540</td>\n      <td>1.085295</td>\n      <td>0.844404</td>\n      <td>1.107184</td>\n      <td>1.050342</td>\n    </tr>\n  </tbody>\n</table>\n<p>323 rows × 7 columns</p>\n</div>"
     },
     "metadata": {},
     "execution_count": 26
    }
   ],
   "source": [
    "df_norm = normaliza_carteira(teste)\n",
    "df_norm"
   ]
  }
 ]
}