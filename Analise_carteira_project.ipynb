{
 "metadata": {
  "language_info": {
   "codemirror_mode": {
    "name": "ipython",
    "version": 3
   },
   "file_extension": ".py",
   "mimetype": "text/x-python",
   "name": "python",
   "nbconvert_exporter": "python",
   "pygments_lexer": "ipython3",
   "version": "3.8.5"
  },
  "orig_nbformat": 2,
  "kernelspec": {
   "name": "python385jvsc74a57bd0724fa9851ab0f3c363ea6c751f3ea040b48988fb5067ff51ac6e585b29d3905f",
   "display_name": "Python 3.8.5 64-bit ('base': conda)"
  }
 },
 "nbformat": 4,
 "nbformat_minor": 2,
 "cells": [
  {
   "cell_type": "code",
   "execution_count": 1,
   "metadata": {},
   "outputs": [],
   "source": [
    "import pandas as pd\n",
    "import numpy as np \n",
    "from pandas_datareader import data\n",
    "from func_pyeconomics import graf_plotly"
   ]
  },
  {
   "cell_type": "code",
   "execution_count": 2,
   "metadata": {},
   "outputs": [],
   "source": [
    "ativos = ['CMIG4.SA','ELET3.SA','EGIE3.SA','EQTL3.SA','TAEE3.SA','TRPL4.SA']"
   ]
  },
  {
   "source": [
    "dataframe = pd.DataFrame()\n",
    "for i in ativos:\n",
    "    frame = data.DataReader(i, data_source='yahoo', start='2015-01-01', end='2022-01-01')\n",
    "    frame = frame['Adj Close']\n",
    "    frame = pd.DataFrame(frame)\n",
    "    frame = frame.rename(columns={'Adj Close':f'{i}'})\n",
    "    dataframe = pd.concat([frame, dataframe], axis = 1)"
   ],
   "cell_type": "markdown",
   "metadata": {}
  },
  {
   "source": [
    "### Normalização da carteira"
   ],
   "cell_type": "markdown",
   "metadata": {}
  },
  {
   "source": [
    "df_normalizado = pd.DataFrame()\n",
    "for i in dataframe.columns[0:]:\n",
    "    df_normalizado[i] = dataframe[i] / dataframe[i][0]\n",
    "df_carteira = df_normalizado.drop(columns='BOVA11.SA')\n",
    "benchmark = pd.DataFrame(df_normalizado['BOVA11.SA'])\n",
    "benchmark"
   ],
   "cell_type": "markdown",
   "metadata": {}
  },
  {
   "source": [
    "df_carteira['CARTEIRA'] = df_carteira.sum(axis=1) / len(df_carteira.columns)\n",
    "carteira = pd.DataFrame(df_carteira['CARTEIRA'])"
   ],
   "cell_type": "markdown",
   "metadata": {}
  },
  {
   "source": [
    "cart_bench = pd.concat([carteira, benchmark], axis = 1)"
   ],
   "cell_type": "markdown",
   "metadata": {}
  },
  {
   "source": [
    "graf_plotly(cart_bench)"
   ],
   "cell_type": "markdown",
   "metadata": {}
  },
  {
   "cell_type": "code",
   "execution_count": 3,
   "metadata": {},
   "outputs": [],
   "source": [
    "def gera_carteira(ativos,ano_inicio, ano_final):\n",
    "    lista_ativos = ativos + ['BOVA11.SA']\n",
    "    dataframe = pd.DataFrame()\n",
    " \n",
    "    for i in lista_ativos:\n",
    "        frame = data.DataReader(i, data_source='yahoo', start=f'{ano_inicio}-01-01')\n",
    "        frame = frame['Adj Close']\n",
    "        frame = pd.DataFrame(frame)\n",
    "        frame = frame.rename(columns={'Adj Close':f'{i}'})\n",
    "        dataframe = pd.concat([frame, dataframe], axis = 1)\n",
    "    return dataframe"
   ]
  },
  {
   "cell_type": "code",
   "execution_count": 4,
   "metadata": {},
   "outputs": [
    {
     "output_type": "execute_result",
     "data": {
      "text/plain": [
       "             BOVA11.SA   TRPL4.SA   TAEE3.SA   EQTL3.SA   EGIE3.SA   ELET3.SA  \\\n",
       "Date                                                                            \n",
       "2020-01-02  114.239998  19.821434   9.100993  22.943060  48.839165  32.668461   \n",
       "2020-01-03  113.800003  19.325247   9.263030  22.670277  49.120930  32.172184   \n",
       "2020-01-06  112.589996  19.438412   9.308040  22.699501  48.707680  32.326202   \n",
       "2020-01-07  112.239998  19.299131   9.218019  22.582596  48.810989  33.156174   \n",
       "2020-01-08  111.949997  19.151144   9.218019  22.738472  48.322601  33.635338   \n",
       "...                ...        ...        ...        ...        ...        ...   \n",
       "2021-04-20  115.480003  26.000000  13.620000  24.900000  41.799999  35.240002   \n",
       "2021-04-22  114.949997  25.920000  13.800000  25.040001  41.669998  35.720001   \n",
       "2021-04-23  115.970001  26.000000  13.570000  25.280001  42.209999  36.720001   \n",
       "2021-04-26  115.860001  25.830000  13.580000  24.900000  41.900002  37.230000   \n",
       "2021-04-27  114.900002  25.870001  13.590000  24.760000  41.450001  36.349998   \n",
       "\n",
       "             CMIG4.SA  \n",
       "Date                   \n",
       "2020-01-02  12.691110  \n",
       "2020-01-03  12.553957  \n",
       "2020-01-06  12.727682  \n",
       "2020-01-07  13.193999  \n",
       "2020-01-08  13.559736  \n",
       "...               ...  \n",
       "2021-04-20  13.500000  \n",
       "2021-04-22  13.450000  \n",
       "2021-04-23  13.500000  \n",
       "2021-04-26  13.450000  \n",
       "2021-04-27  13.370000  \n",
       "\n",
       "[323 rows x 7 columns]"
      ],
      "text/html": "<div>\n<style scoped>\n    .dataframe tbody tr th:only-of-type {\n        vertical-align: middle;\n    }\n\n    .dataframe tbody tr th {\n        vertical-align: top;\n    }\n\n    .dataframe thead th {\n        text-align: right;\n    }\n</style>\n<table border=\"1\" class=\"dataframe\">\n  <thead>\n    <tr style=\"text-align: right;\">\n      <th></th>\n      <th>BOVA11.SA</th>\n      <th>TRPL4.SA</th>\n      <th>TAEE3.SA</th>\n      <th>EQTL3.SA</th>\n      <th>EGIE3.SA</th>\n      <th>ELET3.SA</th>\n      <th>CMIG4.SA</th>\n    </tr>\n    <tr>\n      <th>Date</th>\n      <th></th>\n      <th></th>\n      <th></th>\n      <th></th>\n      <th></th>\n      <th></th>\n      <th></th>\n    </tr>\n  </thead>\n  <tbody>\n    <tr>\n      <th>2020-01-02</th>\n      <td>114.239998</td>\n      <td>19.821434</td>\n      <td>9.100993</td>\n      <td>22.943060</td>\n      <td>48.839165</td>\n      <td>32.668461</td>\n      <td>12.691110</td>\n    </tr>\n    <tr>\n      <th>2020-01-03</th>\n      <td>113.800003</td>\n      <td>19.325247</td>\n      <td>9.263030</td>\n      <td>22.670277</td>\n      <td>49.120930</td>\n      <td>32.172184</td>\n      <td>12.553957</td>\n    </tr>\n    <tr>\n      <th>2020-01-06</th>\n      <td>112.589996</td>\n      <td>19.438412</td>\n      <td>9.308040</td>\n      <td>22.699501</td>\n      <td>48.707680</td>\n      <td>32.326202</td>\n      <td>12.727682</td>\n    </tr>\n    <tr>\n      <th>2020-01-07</th>\n      <td>112.239998</td>\n      <td>19.299131</td>\n      <td>9.218019</td>\n      <td>22.582596</td>\n      <td>48.810989</td>\n      <td>33.156174</td>\n      <td>13.193999</td>\n    </tr>\n    <tr>\n      <th>2020-01-08</th>\n      <td>111.949997</td>\n      <td>19.151144</td>\n      <td>9.218019</td>\n      <td>22.738472</td>\n      <td>48.322601</td>\n      <td>33.635338</td>\n      <td>13.559736</td>\n    </tr>\n    <tr>\n      <th>...</th>\n      <td>...</td>\n      <td>...</td>\n      <td>...</td>\n      <td>...</td>\n      <td>...</td>\n      <td>...</td>\n      <td>...</td>\n    </tr>\n    <tr>\n      <th>2021-04-20</th>\n      <td>115.480003</td>\n      <td>26.000000</td>\n      <td>13.620000</td>\n      <td>24.900000</td>\n      <td>41.799999</td>\n      <td>35.240002</td>\n      <td>13.500000</td>\n    </tr>\n    <tr>\n      <th>2021-04-22</th>\n      <td>114.949997</td>\n      <td>25.920000</td>\n      <td>13.800000</td>\n      <td>25.040001</td>\n      <td>41.669998</td>\n      <td>35.720001</td>\n      <td>13.450000</td>\n    </tr>\n    <tr>\n      <th>2021-04-23</th>\n      <td>115.970001</td>\n      <td>26.000000</td>\n      <td>13.570000</td>\n      <td>25.280001</td>\n      <td>42.209999</td>\n      <td>36.720001</td>\n      <td>13.500000</td>\n    </tr>\n    <tr>\n      <th>2021-04-26</th>\n      <td>115.860001</td>\n      <td>25.830000</td>\n      <td>13.580000</td>\n      <td>24.900000</td>\n      <td>41.900002</td>\n      <td>37.230000</td>\n      <td>13.450000</td>\n    </tr>\n    <tr>\n      <th>2021-04-27</th>\n      <td>114.900002</td>\n      <td>25.870001</td>\n      <td>13.590000</td>\n      <td>24.760000</td>\n      <td>41.450001</td>\n      <td>36.349998</td>\n      <td>13.370000</td>\n    </tr>\n  </tbody>\n</table>\n<p>323 rows × 7 columns</p>\n</div>"
     },
     "metadata": {},
     "execution_count": 4
    }
   ],
   "source": [
    "teste = gera_carteira(ativos,2020,2021)\n",
    "teste"
   ]
  },
  {
   "cell_type": "code",
   "execution_count": 5,
   "metadata": {},
   "outputs": [],
   "source": [
    "def normaliza_carteira(dataframe):\n",
    "    df_normalizado = pd.DataFrame()\n",
    "    for i in dataframe.columns[0:]:\n",
    "        df_normalizado[i] = dataframe[i] / dataframe[i][0]"
   ]
  },
  {
   "cell_type": "code",
   "execution_count": 6,
   "metadata": {},
   "outputs": [],
   "source": [
    "df_norm = normaliza_carteira(teste)\n",
    "df_norm"
   ]
  }
 ]
}