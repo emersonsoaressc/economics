{
 "metadata": {
  "language_info": {
   "codemirror_mode": {
    "name": "ipython",
    "version": 3
   },
   "file_extension": ".py",
   "mimetype": "text/x-python",
   "name": "python",
   "nbconvert_exporter": "python",
   "pygments_lexer": "ipython3",
   "version": "3.8.5"
  },
  "orig_nbformat": 2,
  "kernelspec": {
   "name": "python385jvsc74a57bd0724fa9851ab0f3c363ea6c751f3ea040b48988fb5067ff51ac6e585b29d3905f",
   "display_name": "Python 3.8.5 64-bit ('base': conda)"
  }
 },
 "nbformat": 4,
 "nbformat_minor": 2,
 "cells": [
  {
   "cell_type": "code",
   "execution_count": 36,
   "metadata": {},
   "outputs": [],
   "source": [
    "import pandas as pd\n",
    "import numpy as np \n",
    "from pandas_datareader import data\n",
    "from func_pyeconomics import graf_plotly\n",
    "import plotly.express as px \n",
    "import matplotlib.pyplot as plt"
   ]
  },
  {
   "cell_type": "code",
   "execution_count": 27,
   "metadata": {},
   "outputs": [],
   "source": [
    "ativos = ['ITSA4.SA','IRBR3.SA','MGLU3.SA', '^BVSP']"
   ]
  },
  {
   "cell_type": "code",
   "execution_count": 28,
   "metadata": {},
   "outputs": [
    {
     "output_type": "execute_result",
     "data": {
      "text/plain": [
       "['ITSA4.SA', 'IRBR3.SA', 'MGLU3.SA', '^BVSP']"
      ]
     },
     "metadata": {},
     "execution_count": 28
    }
   ],
   "source": [
    "ativos"
   ]
  },
  {
   "source": [
    "### Normalização da carteira"
   ],
   "cell_type": "markdown",
   "metadata": {}
  },
  {
   "cell_type": "code",
   "execution_count": 29,
   "metadata": {},
   "outputs": [],
   "source": [
    "def gera_carteira(ativos,ano_inicio):\n",
    "    lista_ativos = ativos\n",
    "    dataframe = pd.DataFrame()\n",
    " \n",
    "    for i in lista_ativos:\n",
    "        frame = data.DataReader(i, data_source='yahoo', start=f'{ano_inicio}-01-01')\n",
    "        frame = frame['Adj Close']\n",
    "        frame = pd.DataFrame(frame)\n",
    "        frame = frame.rename(columns={'Adj Close':f'{i}'})\n",
    "        dataframe = pd.concat([frame, dataframe], axis = 1)\n",
    "    return dataframe"
   ]
  },
  {
   "cell_type": "code",
   "execution_count": 30,
   "metadata": {},
   "outputs": [],
   "source": [
    "def normaliza_carteira(dataframe):\n",
    "    df_normalizado = pd.DataFrame()\n",
    "    for i in dataframe.columns:\n",
    "        df_normalizado[i] = dataframe[i] / dataframe[i][0]\n",
    "    return df_normalizado"
   ]
  },
  {
   "cell_type": "code",
   "execution_count": 31,
   "metadata": {},
   "outputs": [
    {
     "output_type": "execute_result",
     "data": {
      "text/plain": [
       "               ^BVSP   MGLU3.SA  IRBR3.SA   ITSA4.SA\n",
       "Date                                                \n",
       "2017-07-31   65920.0   1.375504  8.329202   6.754799\n",
       "2017-08-01   66516.0   1.388513  8.360481   6.973874\n",
       "2017-08-02   67136.0   1.394249  8.374700   7.054200\n",
       "2017-08-03   66777.0   1.396348  8.343420   7.039596\n",
       "2017-08-04   66898.0   1.473432  8.104548   7.017686\n",
       "...              ...        ...       ...        ...\n",
       "2021-04-26  120595.0  21.709999  6.430000  10.226729\n",
       "2021-04-27  119388.0  20.950001  6.270000  10.007656\n",
       "2021-04-28  121053.0  20.650000  6.250000  10.378186\n",
       "2021-04-29  120066.0  20.260000  6.150000  10.138690\n",
       "2021-04-30  118894.0  20.049999  6.090000  10.070000\n",
       "\n",
       "[923 rows x 4 columns]"
      ],
      "text/html": "<div>\n<style scoped>\n    .dataframe tbody tr th:only-of-type {\n        vertical-align: middle;\n    }\n\n    .dataframe tbody tr th {\n        vertical-align: top;\n    }\n\n    .dataframe thead th {\n        text-align: right;\n    }\n</style>\n<table border=\"1\" class=\"dataframe\">\n  <thead>\n    <tr style=\"text-align: right;\">\n      <th></th>\n      <th>^BVSP</th>\n      <th>MGLU3.SA</th>\n      <th>IRBR3.SA</th>\n      <th>ITSA4.SA</th>\n    </tr>\n    <tr>\n      <th>Date</th>\n      <th></th>\n      <th></th>\n      <th></th>\n      <th></th>\n    </tr>\n  </thead>\n  <tbody>\n    <tr>\n      <th>2017-07-31</th>\n      <td>65920.0</td>\n      <td>1.375504</td>\n      <td>8.329202</td>\n      <td>6.754799</td>\n    </tr>\n    <tr>\n      <th>2017-08-01</th>\n      <td>66516.0</td>\n      <td>1.388513</td>\n      <td>8.360481</td>\n      <td>6.973874</td>\n    </tr>\n    <tr>\n      <th>2017-08-02</th>\n      <td>67136.0</td>\n      <td>1.394249</td>\n      <td>8.374700</td>\n      <td>7.054200</td>\n    </tr>\n    <tr>\n      <th>2017-08-03</th>\n      <td>66777.0</td>\n      <td>1.396348</td>\n      <td>8.343420</td>\n      <td>7.039596</td>\n    </tr>\n    <tr>\n      <th>2017-08-04</th>\n      <td>66898.0</td>\n      <td>1.473432</td>\n      <td>8.104548</td>\n      <td>7.017686</td>\n    </tr>\n    <tr>\n      <th>...</th>\n      <td>...</td>\n      <td>...</td>\n      <td>...</td>\n      <td>...</td>\n    </tr>\n    <tr>\n      <th>2021-04-26</th>\n      <td>120595.0</td>\n      <td>21.709999</td>\n      <td>6.430000</td>\n      <td>10.226729</td>\n    </tr>\n    <tr>\n      <th>2021-04-27</th>\n      <td>119388.0</td>\n      <td>20.950001</td>\n      <td>6.270000</td>\n      <td>10.007656</td>\n    </tr>\n    <tr>\n      <th>2021-04-28</th>\n      <td>121053.0</td>\n      <td>20.650000</td>\n      <td>6.250000</td>\n      <td>10.378186</td>\n    </tr>\n    <tr>\n      <th>2021-04-29</th>\n      <td>120066.0</td>\n      <td>20.260000</td>\n      <td>6.150000</td>\n      <td>10.138690</td>\n    </tr>\n    <tr>\n      <th>2021-04-30</th>\n      <td>118894.0</td>\n      <td>20.049999</td>\n      <td>6.090000</td>\n      <td>10.070000</td>\n    </tr>\n  </tbody>\n</table>\n<p>923 rows × 4 columns</p>\n</div>"
     },
     "metadata": {},
     "execution_count": 31
    }
   ],
   "source": [
    "teste = gera_carteira(ativos,2010).dropna()\n",
    "teste"
   ]
  },
  {
   "cell_type": "code",
   "execution_count": 32,
   "metadata": {},
   "outputs": [
    {
     "output_type": "execute_result",
     "data": {
      "text/plain": [
       "               ^BVSP   MGLU3.SA  IRBR3.SA  ITSA4.SA\n",
       "Date                                               \n",
       "2017-07-31  1.000000   1.000000  1.000000  1.000000\n",
       "2017-08-01  1.009041   1.009458  1.003755  1.032432\n",
       "2017-08-02  1.018447   1.013628  1.005462  1.044324\n",
       "2017-08-03  1.013001   1.015154  1.001707  1.042162\n",
       "2017-08-04  1.014836   1.071195  0.973028  1.038919\n",
       "...              ...        ...       ...       ...\n",
       "2021-04-26  1.829414  15.783307  0.771983  1.513995\n",
       "2021-04-27  1.811104  15.230784  0.752773  1.481562\n",
       "2021-04-28  1.836362  15.012681  0.750372  1.536417\n",
       "2021-04-29  1.821390  14.729149  0.738366  1.500961\n",
       "2021-04-30  1.803610  14.576477  0.731163  1.490792\n",
       "\n",
       "[923 rows x 4 columns]"
      ],
      "text/html": "<div>\n<style scoped>\n    .dataframe tbody tr th:only-of-type {\n        vertical-align: middle;\n    }\n\n    .dataframe tbody tr th {\n        vertical-align: top;\n    }\n\n    .dataframe thead th {\n        text-align: right;\n    }\n</style>\n<table border=\"1\" class=\"dataframe\">\n  <thead>\n    <tr style=\"text-align: right;\">\n      <th></th>\n      <th>^BVSP</th>\n      <th>MGLU3.SA</th>\n      <th>IRBR3.SA</th>\n      <th>ITSA4.SA</th>\n    </tr>\n    <tr>\n      <th>Date</th>\n      <th></th>\n      <th></th>\n      <th></th>\n      <th></th>\n    </tr>\n  </thead>\n  <tbody>\n    <tr>\n      <th>2017-07-31</th>\n      <td>1.000000</td>\n      <td>1.000000</td>\n      <td>1.000000</td>\n      <td>1.000000</td>\n    </tr>\n    <tr>\n      <th>2017-08-01</th>\n      <td>1.009041</td>\n      <td>1.009458</td>\n      <td>1.003755</td>\n      <td>1.032432</td>\n    </tr>\n    <tr>\n      <th>2017-08-02</th>\n      <td>1.018447</td>\n      <td>1.013628</td>\n      <td>1.005462</td>\n      <td>1.044324</td>\n    </tr>\n    <tr>\n      <th>2017-08-03</th>\n      <td>1.013001</td>\n      <td>1.015154</td>\n      <td>1.001707</td>\n      <td>1.042162</td>\n    </tr>\n    <tr>\n      <th>2017-08-04</th>\n      <td>1.014836</td>\n      <td>1.071195</td>\n      <td>0.973028</td>\n      <td>1.038919</td>\n    </tr>\n    <tr>\n      <th>...</th>\n      <td>...</td>\n      <td>...</td>\n      <td>...</td>\n      <td>...</td>\n    </tr>\n    <tr>\n      <th>2021-04-26</th>\n      <td>1.829414</td>\n      <td>15.783307</td>\n      <td>0.771983</td>\n      <td>1.513995</td>\n    </tr>\n    <tr>\n      <th>2021-04-27</th>\n      <td>1.811104</td>\n      <td>15.230784</td>\n      <td>0.752773</td>\n      <td>1.481562</td>\n    </tr>\n    <tr>\n      <th>2021-04-28</th>\n      <td>1.836362</td>\n      <td>15.012681</td>\n      <td>0.750372</td>\n      <td>1.536417</td>\n    </tr>\n    <tr>\n      <th>2021-04-29</th>\n      <td>1.821390</td>\n      <td>14.729149</td>\n      <td>0.738366</td>\n      <td>1.500961</td>\n    </tr>\n    <tr>\n      <th>2021-04-30</th>\n      <td>1.803610</td>\n      <td>14.576477</td>\n      <td>0.731163</td>\n      <td>1.490792</td>\n    </tr>\n  </tbody>\n</table>\n<p>923 rows × 4 columns</p>\n</div>"
     },
     "metadata": {},
     "execution_count": 32
    }
   ],
   "source": [
    "df_norm = normaliza_carteira(teste)\n",
    "df_norm"
   ]
  },
  {
   "cell_type": "code",
   "execution_count": 76,
   "metadata": {},
   "outputs": [
    {
     "output_type": "execute_result",
     "data": {
      "text/plain": [
       "                 ^BVSP    MGLU3.SA    IRBR3.SA   ITSA4.SA\n",
       "Date                                                     \n",
       "2017-08-02  112.644295  107.176143  267.737096  32.199973\n",
       "2017-08-03   54.915296   74.489631  183.380355  23.512243\n",
       "2017-08-04   78.060677   70.686191  570.007043  24.641037\n",
       "2017-08-07   69.468303   15.313998  -36.139103  27.277983\n",
       "2017-08-08   33.613366   11.907587  -38.040357  17.245632\n",
       "...                ...         ...         ...        ...\n",
       "2021-04-26    2.208295    1.066595   -3.298786   2.903903\n",
       "2021-04-27    2.183594    1.030269   -3.301387   2.882447\n",
       "2021-04-28    2.264027    1.054944   -3.035157   3.190483\n",
       "2021-04-29    2.177752    1.051130   -2.957866   2.798125\n",
       "2021-04-30    2.195804    1.061717   -2.794602   2.975864\n",
       "\n",
       "[921 rows x 4 columns]"
      ],
      "text/html": "<div>\n<style scoped>\n    .dataframe tbody tr th:only-of-type {\n        vertical-align: middle;\n    }\n\n    .dataframe tbody tr th {\n        vertical-align: top;\n    }\n\n    .dataframe thead th {\n        text-align: right;\n    }\n</style>\n<table border=\"1\" class=\"dataframe\">\n  <thead>\n    <tr style=\"text-align: right;\">\n      <th></th>\n      <th>^BVSP</th>\n      <th>MGLU3.SA</th>\n      <th>IRBR3.SA</th>\n      <th>ITSA4.SA</th>\n    </tr>\n    <tr>\n      <th>Date</th>\n      <th></th>\n      <th></th>\n      <th></th>\n      <th></th>\n    </tr>\n  </thead>\n  <tbody>\n    <tr>\n      <th>2017-08-02</th>\n      <td>112.644295</td>\n      <td>107.176143</td>\n      <td>267.737096</td>\n      <td>32.199973</td>\n    </tr>\n    <tr>\n      <th>2017-08-03</th>\n      <td>54.915296</td>\n      <td>74.489631</td>\n      <td>183.380355</td>\n      <td>23.512243</td>\n    </tr>\n    <tr>\n      <th>2017-08-04</th>\n      <td>78.060677</td>\n      <td>70.686191</td>\n      <td>570.007043</td>\n      <td>24.641037</td>\n    </tr>\n    <tr>\n      <th>2017-08-07</th>\n      <td>69.468303</td>\n      <td>15.313998</td>\n      <td>-36.139103</td>\n      <td>27.277983</td>\n    </tr>\n    <tr>\n      <th>2017-08-08</th>\n      <td>33.613366</td>\n      <td>11.907587</td>\n      <td>-38.040357</td>\n      <td>17.245632</td>\n    </tr>\n    <tr>\n      <th>...</th>\n      <td>...</td>\n      <td>...</td>\n      <td>...</td>\n      <td>...</td>\n    </tr>\n    <tr>\n      <th>2021-04-26</th>\n      <td>2.208295</td>\n      <td>1.066595</td>\n      <td>-3.298786</td>\n      <td>2.903903</td>\n    </tr>\n    <tr>\n      <th>2021-04-27</th>\n      <td>2.183594</td>\n      <td>1.030269</td>\n      <td>-3.301387</td>\n      <td>2.882447</td>\n    </tr>\n    <tr>\n      <th>2021-04-28</th>\n      <td>2.264027</td>\n      <td>1.054944</td>\n      <td>-3.035157</td>\n      <td>3.190483</td>\n    </tr>\n    <tr>\n      <th>2021-04-29</th>\n      <td>2.177752</td>\n      <td>1.051130</td>\n      <td>-2.957866</td>\n      <td>2.798125</td>\n    </tr>\n    <tr>\n      <th>2021-04-30</th>\n      <td>2.195804</td>\n      <td>1.061717</td>\n      <td>-2.794602</td>\n      <td>2.975864</td>\n    </tr>\n  </tbody>\n</table>\n<p>921 rows × 4 columns</p>\n</div>"
     },
     "metadata": {},
     "execution_count": 76
    }
   ],
   "source": [
    "retorno_ativos = (df_norm/(df_norm.shift(1) - 1)).dropna()\n",
    "retorno_ativos = retorno_ativos[1:]\n",
    "retorno_ativos"
   ]
  },
  {
   "cell_type": "code",
   "execution_count": 77,
   "metadata": {},
   "outputs": [
    {
     "output_type": "execute_result",
     "data": {
      "text/plain": [
       "24.83699702622192"
      ]
     },
     "metadata": {},
     "execution_count": 77
    }
   ],
   "source": [
    "var = retorno_ativos['MGLU3.SA'].var()\n",
    "var"
   ]
  },
  {
   "cell_type": "code",
   "execution_count": 64,
   "metadata": {},
   "outputs": [
    {
     "output_type": "execute_result",
     "data": {
      "text/plain": [
       "nan"
      ]
     },
     "metadata": {},
     "execution_count": 64
    }
   ],
   "source": [
    "\n",
    "for i in retorno_ativos.columns:\n",
    "    variancia = retorno_ativos[f'{i}'].var()\n",
    "variancia"
   ]
  },
  {
   "cell_type": "code",
   "execution_count": 33,
   "metadata": {},
   "outputs": [],
   "source": [
    "benchmark = pd.DataFrame(df_norm['^BVSP'])\n",
    "carteira = df_norm.drop(columns='^BVSP')\n",
    "carteira['CARTEIRA'] = carteira.sum(axis=1) / len(carteira.columns)\n",
    "carteira = pd.DataFrame(carteira['CARTEIRA'])\n",
    "cart_bench = pd.concat([carteira, benchmark], axis = 1)"
   ]
  },
  {
   "cell_type": "code",
   "execution_count": 34,
   "metadata": {},
   "outputs": [
    {
     "output_type": "execute_result",
     "data": {
      "text/plain": [
       "             ^BVSP  MGLU3.SA  IRBR3.SA  ITSA4.SA\n",
       "^BVSP     1.000000  0.724140  0.290137  0.770728\n",
       "MGLU3.SA  0.724140  1.000000 -0.317021  0.207493\n",
       "IRBR3.SA  0.290137 -0.317021  1.000000  0.734021\n",
       "ITSA4.SA  0.770728  0.207493  0.734021  1.000000"
      ],
      "text/html": "<div>\n<style scoped>\n    .dataframe tbody tr th:only-of-type {\n        vertical-align: middle;\n    }\n\n    .dataframe tbody tr th {\n        vertical-align: top;\n    }\n\n    .dataframe thead th {\n        text-align: right;\n    }\n</style>\n<table border=\"1\" class=\"dataframe\">\n  <thead>\n    <tr style=\"text-align: right;\">\n      <th></th>\n      <th>^BVSP</th>\n      <th>MGLU3.SA</th>\n      <th>IRBR3.SA</th>\n      <th>ITSA4.SA</th>\n    </tr>\n  </thead>\n  <tbody>\n    <tr>\n      <th>^BVSP</th>\n      <td>1.000000</td>\n      <td>0.724140</td>\n      <td>0.290137</td>\n      <td>0.770728</td>\n    </tr>\n    <tr>\n      <th>MGLU3.SA</th>\n      <td>0.724140</td>\n      <td>1.000000</td>\n      <td>-0.317021</td>\n      <td>0.207493</td>\n    </tr>\n    <tr>\n      <th>IRBR3.SA</th>\n      <td>0.290137</td>\n      <td>-0.317021</td>\n      <td>1.000000</td>\n      <td>0.734021</td>\n    </tr>\n    <tr>\n      <th>ITSA4.SA</th>\n      <td>0.770728</td>\n      <td>0.207493</td>\n      <td>0.734021</td>\n      <td>1.000000</td>\n    </tr>\n  </tbody>\n</table>\n</div>"
     },
     "metadata": {},
     "execution_count": 34
    }
   ],
   "source": [
    "\n",
    "correlacao = df_norm.corr()\n",
    "correlacao"
   ]
  },
  {
   "cell_type": "code",
   "execution_count": 55,
   "metadata": {},
   "outputs": [
    {
     "output_type": "display_data",
     "data": {
      "text/plain": "<Figure size 432x288 with 1 Axes>",
      "image/svg+xml": "<?xml version=\"1.0\" encoding=\"utf-8\" standalone=\"no\"?>\r\n<!DOCTYPE svg PUBLIC \"-//W3C//DTD SVG 1.1//EN\"\r\n  \"http://www.w3.org/Graphics/SVG/1.1/DTD/svg11.dtd\">\r\n<!-- Created with matplotlib (https://matplotlib.org/) -->\r\n<svg height=\"280.478125pt\" version=\"1.1\" viewBox=\"0 0 322.484375 280.478125\" width=\"322.484375pt\" xmlns=\"http://www.w3.org/2000/svg\" xmlns:xlink=\"http://www.w3.org/1999/xlink\">\r\n <metadata>\r\n  <rdf:RDF xmlns:cc=\"http://creativecommons.org/ns#\" xmlns:dc=\"http://purl.org/dc/elements/1.1/\" xmlns:rdf=\"http://www.w3.org/1999/02/22-rdf-syntax-ns#\">\r\n   <cc:Work>\r\n    <dc:type rdf:resource=\"http://purl.org/dc/dcmitype/StillImage\"/>\r\n    <dc:date>2021-05-01T14:14:04.306006</dc:date>\r\n    <dc:format>image/svg+xml</dc:format>\r\n    <dc:creator>\r\n     <cc:Agent>\r\n      <dc:title>Matplotlib v3.3.2, https://matplotlib.org/</dc:title>\r\n     </cc:Agent>\r\n    </dc:creator>\r\n   </cc:Work>\r\n  </rdf:RDF>\r\n </metadata>\r\n <defs>\r\n  <style type=\"text/css\">*{stroke-linecap:butt;stroke-linejoin:round;}</style>\r\n </defs>\r\n <g id=\"figure_1\">\r\n  <g id=\"patch_1\">\r\n   <path d=\"M 0 280.478125 \r\nL 322.484375 280.478125 \r\nL 322.484375 0 \r\nL 0 0 \r\nz\r\n\" style=\"fill:none;\"/>\r\n  </g>\r\n  <g id=\"axes_1\">\r\n   <g id=\"patch_2\">\r\n    <path d=\"M 65.884375 256.6 \r\nL 315.284375 256.6 \r\nL 315.284375 7.2 \r\nL 65.884375 7.2 \r\nz\r\n\" style=\"fill:#ffffff;\"/>\r\n   </g>\r\n   <g clip-path=\"url(#p190f67c1d1)\">\r\n    <image height=\"250\" id=\"image10bd84df23\" transform=\"scale(1 -1)translate(0 -250)\" width=\"250\" x=\"65.884375\" xlink:href=\"data:image/png;base64,\r\niVBORw0KGgoAAAANSUhEUgAAAPoAAAD6CAYAAACI7Fo9AAADc0lEQVR4nO3VsUmdARiF4fwZwkA60VawjQPEVNpYOYEDiAGxFEIImUHIApZyawvbC+IKV+IOcjNF+Ir3eSY4zctZfr183X4IuvvzbXrCmNPzx+kJI253nqcnjPk4PQD4/4QOAUKHAKFDgNAhQOgQIHQIEDoECB0ChA4BQocAoUOA0CFA6BAgdAgQOgQIHQKEDgFChwChQ4DQIUDoECB0CBA6BAgdAoQOAUKHAKFDgNAhQOgQIHQIEDoECB0ChA4BQocAoUOA0CFA6BAgdAgQOgQIHQKEDgFChwChQ4DQIUDoECB0CBA6BAgdAoQOAUKHAKFDgNAhQOgQIHQIEDoECB0ChA4BQocAoUOA0CFA6BCw7P34vZ0eMWH3+ml6wpjVZj09YcTN28H0hDEeHQKEDgFChwChQ4DQIUDoECB0CBA6BAgdAoQOAUKHAKFDgNAhQOgQIHQIEDoECB0ChA4BQocAoUOA0CFA6BAgdAgQOgQIHQKEDgFChwChQ4DQIUDoECB0CBA6BAgdAoQOAUKHAKFDgNAhQOgQIHQIEDoECB0ChA4BQocAoUOA0CFA6BAgdAgQOgQIHQKEDgFChwChQ4DQIUDoECB0CBA6BAgdAoQOAUKHAKFDgNAhYLlcn22nR0z4+Wk9PWHM8efD6QkjNldH0xPGeHQIEDoECB0ChA4BQocAoUOA0CFA6BAgdAgQOgQIHQKEDgFChwChQ4DQIUDoECB0CBA6BAgdAoQOAUKHAKFDgNAhQOgQIHQIEDoECB0ChA4BQocAoUOA0CFA6BAgdAgQOgQIHQKEDgFChwChQ4DQIUDoECB0CBA6BAgdAoQOAUKHAKFDgNAhQOgQIHQIEDoECB0ChA4BQocAoUOA0CFA6BAgdAgQOgQIHQKEDgFChwChQ8Dy/rq/nR4x4fvfw+kJY+4fvkxPGHFxspqeMMajQ4DQIUDoECB0CBA6BAgdAoQOAUKHAKFDgNAhQOgQIHQIEDoECB0ChA4BQocAoUOA0CFA6BAgdAgQOgQIHQKEDgFChwChQ4DQIUDoECB0CBA6BAgdAoQOAUKHAKFDgNAhQOgQIHQIEDoECB0ChA4BQocAoUOA0CFA6BAgdAgQOgQIHQKEDgFChwChQ4DQIUDoECB0CBA6BAgdAoQOAUKHAKFDgNAhQOgQIHQIEDoE/AP+nB5lb3Jo+QAAAABJRU5ErkJggg==\" y=\"-6.6\"/>\r\n   </g>\r\n   <g id=\"matplotlib.axis_1\">\r\n    <g id=\"xtick_1\">\r\n     <g id=\"line2d_1\">\r\n      <defs>\r\n       <path d=\"M 0 0 \r\nL 0 3.5 \r\n\" id=\"mb4268ddf12\" style=\"stroke:#000000;stroke-width:0.8;\"/>\r\n      </defs>\r\n      <g>\r\n       <use style=\"stroke:#000000;stroke-width:0.8;\" x=\"97.059375\" xlink:href=\"#mb4268ddf12\" y=\"256.6\"/>\r\n      </g>\r\n     </g>\r\n     <g id=\"text_1\">\r\n      <!-- ^BVSP -->\r\n      <g transform=\"translate(79.985938 271.198437)scale(0.1 -0.1)\">\r\n       <defs>\r\n        <path d=\"M 46.6875 72.90625 \r\nL 73.1875 45.703125 \r\nL 63.375 45.703125 \r\nL 41.890625 64.984375 \r\nL 20.40625 45.703125 \r\nL 10.59375 45.703125 \r\nL 37.109375 72.90625 \r\nz\r\n\" id=\"DejaVuSans-94\"/>\r\n        <path d=\"M 19.671875 34.8125 \r\nL 19.671875 8.109375 \r\nL 35.5 8.109375 \r\nQ 43.453125 8.109375 47.28125 11.40625 \r\nQ 51.125 14.703125 51.125 21.484375 \r\nQ 51.125 28.328125 47.28125 31.5625 \r\nQ 43.453125 34.8125 35.5 34.8125 \r\nz\r\nM 19.671875 64.796875 \r\nL 19.671875 42.828125 \r\nL 34.28125 42.828125 \r\nQ 41.5 42.828125 45.03125 45.53125 \r\nQ 48.578125 48.25 48.578125 53.8125 \r\nQ 48.578125 59.328125 45.03125 62.0625 \r\nQ 41.5 64.796875 34.28125 64.796875 \r\nz\r\nM 9.8125 72.90625 \r\nL 35.015625 72.90625 \r\nQ 46.296875 72.90625 52.390625 68.21875 \r\nQ 58.5 63.53125 58.5 54.890625 \r\nQ 58.5 48.1875 55.375 44.234375 \r\nQ 52.25 40.28125 46.1875 39.3125 \r\nQ 53.46875 37.75 57.5 32.78125 \r\nQ 61.53125 27.828125 61.53125 20.40625 \r\nQ 61.53125 10.640625 54.890625 5.3125 \r\nQ 48.25 0 35.984375 0 \r\nL 9.8125 0 \r\nz\r\n\" id=\"DejaVuSans-66\"/>\r\n        <path d=\"M 28.609375 0 \r\nL 0.78125 72.90625 \r\nL 11.078125 72.90625 \r\nL 34.1875 11.53125 \r\nL 57.328125 72.90625 \r\nL 67.578125 72.90625 \r\nL 39.796875 0 \r\nz\r\n\" id=\"DejaVuSans-86\"/>\r\n        <path d=\"M 53.515625 70.515625 \r\nL 53.515625 60.890625 \r\nQ 47.90625 63.578125 42.921875 64.890625 \r\nQ 37.9375 66.21875 33.296875 66.21875 \r\nQ 25.25 66.21875 20.875 63.09375 \r\nQ 16.5 59.96875 16.5 54.203125 \r\nQ 16.5 49.359375 19.40625 46.890625 \r\nQ 22.3125 44.4375 30.421875 42.921875 \r\nL 36.375 41.703125 \r\nQ 47.40625 39.59375 52.65625 34.296875 \r\nQ 57.90625 29 57.90625 20.125 \r\nQ 57.90625 9.515625 50.796875 4.046875 \r\nQ 43.703125 -1.421875 29.984375 -1.421875 \r\nQ 24.8125 -1.421875 18.96875 -0.25 \r\nQ 13.140625 0.921875 6.890625 3.21875 \r\nL 6.890625 13.375 \r\nQ 12.890625 10.015625 18.65625 8.296875 \r\nQ 24.421875 6.59375 29.984375 6.59375 \r\nQ 38.421875 6.59375 43.015625 9.90625 \r\nQ 47.609375 13.234375 47.609375 19.390625 \r\nQ 47.609375 24.75 44.3125 27.78125 \r\nQ 41.015625 30.8125 33.5 32.328125 \r\nL 27.484375 33.5 \r\nQ 16.453125 35.6875 11.515625 40.375 \r\nQ 6.59375 45.0625 6.59375 53.421875 \r\nQ 6.59375 63.09375 13.40625 68.65625 \r\nQ 20.21875 74.21875 32.171875 74.21875 \r\nQ 37.3125 74.21875 42.625 73.28125 \r\nQ 47.953125 72.359375 53.515625 70.515625 \r\nz\r\n\" id=\"DejaVuSans-83\"/>\r\n        <path d=\"M 19.671875 64.796875 \r\nL 19.671875 37.40625 \r\nL 32.078125 37.40625 \r\nQ 38.96875 37.40625 42.71875 40.96875 \r\nQ 46.484375 44.53125 46.484375 51.125 \r\nQ 46.484375 57.671875 42.71875 61.234375 \r\nQ 38.96875 64.796875 32.078125 64.796875 \r\nz\r\nM 9.8125 72.90625 \r\nL 32.078125 72.90625 \r\nQ 44.34375 72.90625 50.609375 67.359375 \r\nQ 56.890625 61.8125 56.890625 51.125 \r\nQ 56.890625 40.328125 50.609375 34.8125 \r\nQ 44.34375 29.296875 32.078125 29.296875 \r\nL 19.671875 29.296875 \r\nL 19.671875 0 \r\nL 9.8125 0 \r\nz\r\n\" id=\"DejaVuSans-80\"/>\r\n       </defs>\r\n       <use xlink:href=\"#DejaVuSans-94\"/>\r\n       <use x=\"83.789062\" xlink:href=\"#DejaVuSans-66\"/>\r\n       <use x=\"149.267578\" xlink:href=\"#DejaVuSans-86\"/>\r\n       <use x=\"217.675781\" xlink:href=\"#DejaVuSans-83\"/>\r\n       <use x=\"281.152344\" xlink:href=\"#DejaVuSans-80\"/>\r\n      </g>\r\n     </g>\r\n    </g>\r\n    <g id=\"xtick_2\">\r\n     <g id=\"line2d_2\">\r\n      <g>\r\n       <use style=\"stroke:#000000;stroke-width:0.8;\" x=\"159.409375\" xlink:href=\"#mb4268ddf12\" y=\"256.6\"/>\r\n      </g>\r\n     </g>\r\n     <g id=\"text_2\">\r\n      <!-- MGLU3.SA -->\r\n      <g transform=\"translate(133.567188 271.198437)scale(0.1 -0.1)\">\r\n       <defs>\r\n        <path d=\"M 9.8125 72.90625 \r\nL 24.515625 72.90625 \r\nL 43.109375 23.296875 \r\nL 61.8125 72.90625 \r\nL 76.515625 72.90625 \r\nL 76.515625 0 \r\nL 66.890625 0 \r\nL 66.890625 64.015625 \r\nL 48.09375 14.015625 \r\nL 38.1875 14.015625 \r\nL 19.390625 64.015625 \r\nL 19.390625 0 \r\nL 9.8125 0 \r\nz\r\n\" id=\"DejaVuSans-77\"/>\r\n        <path d=\"M 59.515625 10.40625 \r\nL 59.515625 29.984375 \r\nL 43.40625 29.984375 \r\nL 43.40625 38.09375 \r\nL 69.28125 38.09375 \r\nL 69.28125 6.78125 \r\nQ 63.578125 2.734375 56.6875 0.65625 \r\nQ 49.8125 -1.421875 42 -1.421875 \r\nQ 24.90625 -1.421875 15.25 8.5625 \r\nQ 5.609375 18.5625 5.609375 36.375 \r\nQ 5.609375 54.25 15.25 64.234375 \r\nQ 24.90625 74.21875 42 74.21875 \r\nQ 49.125 74.21875 55.546875 72.453125 \r\nQ 61.96875 70.703125 67.390625 67.28125 \r\nL 67.390625 56.78125 \r\nQ 61.921875 61.421875 55.765625 63.765625 \r\nQ 49.609375 66.109375 42.828125 66.109375 \r\nQ 29.4375 66.109375 22.71875 58.640625 \r\nQ 16.015625 51.171875 16.015625 36.375 \r\nQ 16.015625 21.625 22.71875 14.15625 \r\nQ 29.4375 6.6875 42.828125 6.6875 \r\nQ 48.046875 6.6875 52.140625 7.59375 \r\nQ 56.25 8.5 59.515625 10.40625 \r\nz\r\n\" id=\"DejaVuSans-71\"/>\r\n        <path d=\"M 9.8125 72.90625 \r\nL 19.671875 72.90625 \r\nL 19.671875 8.296875 \r\nL 55.171875 8.296875 \r\nL 55.171875 0 \r\nL 9.8125 0 \r\nz\r\n\" id=\"DejaVuSans-76\"/>\r\n        <path d=\"M 8.6875 72.90625 \r\nL 18.609375 72.90625 \r\nL 18.609375 28.609375 \r\nQ 18.609375 16.890625 22.84375 11.734375 \r\nQ 27.09375 6.59375 36.625 6.59375 \r\nQ 46.09375 6.59375 50.34375 11.734375 \r\nQ 54.59375 16.890625 54.59375 28.609375 \r\nL 54.59375 72.90625 \r\nL 64.5 72.90625 \r\nL 64.5 27.390625 \r\nQ 64.5 13.140625 57.4375 5.859375 \r\nQ 50.390625 -1.421875 36.625 -1.421875 \r\nQ 22.796875 -1.421875 15.734375 5.859375 \r\nQ 8.6875 13.140625 8.6875 27.390625 \r\nz\r\n\" id=\"DejaVuSans-85\"/>\r\n        <path d=\"M 40.578125 39.3125 \r\nQ 47.65625 37.796875 51.625 33 \r\nQ 55.609375 28.21875 55.609375 21.1875 \r\nQ 55.609375 10.40625 48.1875 4.484375 \r\nQ 40.765625 -1.421875 27.09375 -1.421875 \r\nQ 22.515625 -1.421875 17.65625 -0.515625 \r\nQ 12.796875 0.390625 7.625 2.203125 \r\nL 7.625 11.71875 \r\nQ 11.71875 9.328125 16.59375 8.109375 \r\nQ 21.484375 6.890625 26.8125 6.890625 \r\nQ 36.078125 6.890625 40.9375 10.546875 \r\nQ 45.796875 14.203125 45.796875 21.1875 \r\nQ 45.796875 27.640625 41.28125 31.265625 \r\nQ 36.765625 34.90625 28.71875 34.90625 \r\nL 20.21875 34.90625 \r\nL 20.21875 43.015625 \r\nL 29.109375 43.015625 \r\nQ 36.375 43.015625 40.234375 45.921875 \r\nQ 44.09375 48.828125 44.09375 54.296875 \r\nQ 44.09375 59.90625 40.109375 62.90625 \r\nQ 36.140625 65.921875 28.71875 65.921875 \r\nQ 24.65625 65.921875 20.015625 65.03125 \r\nQ 15.375 64.15625 9.8125 62.3125 \r\nL 9.8125 71.09375 \r\nQ 15.4375 72.65625 20.34375 73.4375 \r\nQ 25.25 74.21875 29.59375 74.21875 \r\nQ 40.828125 74.21875 47.359375 69.109375 \r\nQ 53.90625 64.015625 53.90625 55.328125 \r\nQ 53.90625 49.265625 50.4375 45.09375 \r\nQ 46.96875 40.921875 40.578125 39.3125 \r\nz\r\n\" id=\"DejaVuSans-51\"/>\r\n        <path d=\"M 10.6875 12.40625 \r\nL 21 12.40625 \r\nL 21 0 \r\nL 10.6875 0 \r\nz\r\n\" id=\"DejaVuSans-46\"/>\r\n        <path d=\"M 34.1875 63.1875 \r\nL 20.796875 26.90625 \r\nL 47.609375 26.90625 \r\nz\r\nM 28.609375 72.90625 \r\nL 39.796875 72.90625 \r\nL 67.578125 0 \r\nL 57.328125 0 \r\nL 50.6875 18.703125 \r\nL 17.828125 18.703125 \r\nL 11.1875 0 \r\nL 0.78125 0 \r\nz\r\n\" id=\"DejaVuSans-65\"/>\r\n       </defs>\r\n       <use xlink:href=\"#DejaVuSans-77\"/>\r\n       <use x=\"86.279297\" xlink:href=\"#DejaVuSans-71\"/>\r\n       <use x=\"163.769531\" xlink:href=\"#DejaVuSans-76\"/>\r\n       <use x=\"214.482422\" xlink:href=\"#DejaVuSans-85\"/>\r\n       <use x=\"287.675781\" xlink:href=\"#DejaVuSans-51\"/>\r\n       <use x=\"351.298828\" xlink:href=\"#DejaVuSans-46\"/>\r\n       <use x=\"383.085938\" xlink:href=\"#DejaVuSans-83\"/>\r\n       <use x=\"448.4375\" xlink:href=\"#DejaVuSans-65\"/>\r\n      </g>\r\n     </g>\r\n    </g>\r\n    <g id=\"xtick_3\">\r\n     <g id=\"line2d_3\">\r\n      <g>\r\n       <use style=\"stroke:#000000;stroke-width:0.8;\" x=\"221.759375\" xlink:href=\"#mb4268ddf12\" y=\"256.6\"/>\r\n      </g>\r\n     </g>\r\n     <g id=\"text_3\">\r\n      <!-- IRBR3.SA -->\r\n      <g transform=\"translate(198.446875 271.198437)scale(0.1 -0.1)\">\r\n       <defs>\r\n        <path d=\"M 9.8125 72.90625 \r\nL 19.671875 72.90625 \r\nL 19.671875 0 \r\nL 9.8125 0 \r\nz\r\n\" id=\"DejaVuSans-73\"/>\r\n        <path d=\"M 44.390625 34.1875 \r\nQ 47.5625 33.109375 50.5625 29.59375 \r\nQ 53.5625 26.078125 56.59375 19.921875 \r\nL 66.609375 0 \r\nL 56 0 \r\nL 46.6875 18.703125 \r\nQ 43.0625 26.03125 39.671875 28.421875 \r\nQ 36.28125 30.8125 30.421875 30.8125 \r\nL 19.671875 30.8125 \r\nL 19.671875 0 \r\nL 9.8125 0 \r\nL 9.8125 72.90625 \r\nL 32.078125 72.90625 \r\nQ 44.578125 72.90625 50.734375 67.671875 \r\nQ 56.890625 62.453125 56.890625 51.90625 \r\nQ 56.890625 45.015625 53.6875 40.46875 \r\nQ 50.484375 35.9375 44.390625 34.1875 \r\nz\r\nM 19.671875 64.796875 \r\nL 19.671875 38.921875 \r\nL 32.078125 38.921875 \r\nQ 39.203125 38.921875 42.84375 42.21875 \r\nQ 46.484375 45.515625 46.484375 51.90625 \r\nQ 46.484375 58.296875 42.84375 61.546875 \r\nQ 39.203125 64.796875 32.078125 64.796875 \r\nz\r\n\" id=\"DejaVuSans-82\"/>\r\n       </defs>\r\n       <use xlink:href=\"#DejaVuSans-73\"/>\r\n       <use x=\"29.492188\" xlink:href=\"#DejaVuSans-82\"/>\r\n       <use x=\"98.974609\" xlink:href=\"#DejaVuSans-66\"/>\r\n       <use x=\"167.578125\" xlink:href=\"#DejaVuSans-82\"/>\r\n       <use x=\"237.060547\" xlink:href=\"#DejaVuSans-51\"/>\r\n       <use x=\"300.683594\" xlink:href=\"#DejaVuSans-46\"/>\r\n       <use x=\"332.470703\" xlink:href=\"#DejaVuSans-83\"/>\r\n       <use x=\"397.822266\" xlink:href=\"#DejaVuSans-65\"/>\r\n      </g>\r\n     </g>\r\n    </g>\r\n    <g id=\"xtick_4\">\r\n     <g id=\"line2d_4\">\r\n      <g>\r\n       <use style=\"stroke:#000000;stroke-width:0.8;\" x=\"284.109375\" xlink:href=\"#mb4268ddf12\" y=\"256.6\"/>\r\n      </g>\r\n     </g>\r\n     <g id=\"text_4\">\r\n      <!-- ITSA4.SA -->\r\n      <g transform=\"translate(261.433594 271.198437)scale(0.1 -0.1)\">\r\n       <defs>\r\n        <path d=\"M -0.296875 72.90625 \r\nL 61.375 72.90625 \r\nL 61.375 64.59375 \r\nL 35.5 64.59375 \r\nL 35.5 0 \r\nL 25.59375 0 \r\nL 25.59375 64.59375 \r\nL -0.296875 64.59375 \r\nz\r\n\" id=\"DejaVuSans-84\"/>\r\n        <path d=\"M 37.796875 64.3125 \r\nL 12.890625 25.390625 \r\nL 37.796875 25.390625 \r\nz\r\nM 35.203125 72.90625 \r\nL 47.609375 72.90625 \r\nL 47.609375 25.390625 \r\nL 58.015625 25.390625 \r\nL 58.015625 17.1875 \r\nL 47.609375 17.1875 \r\nL 47.609375 0 \r\nL 37.796875 0 \r\nL 37.796875 17.1875 \r\nL 4.890625 17.1875 \r\nL 4.890625 26.703125 \r\nz\r\n\" id=\"DejaVuSans-52\"/>\r\n       </defs>\r\n       <use xlink:href=\"#DejaVuSans-73\"/>\r\n       <use x=\"29.492188\" xlink:href=\"#DejaVuSans-84\"/>\r\n       <use x=\"90.576172\" xlink:href=\"#DejaVuSans-83\"/>\r\n       <use x=\"155.927734\" xlink:href=\"#DejaVuSans-65\"/>\r\n       <use x=\"224.335938\" xlink:href=\"#DejaVuSans-52\"/>\r\n       <use x=\"287.958984\" xlink:href=\"#DejaVuSans-46\"/>\r\n       <use x=\"319.746094\" xlink:href=\"#DejaVuSans-83\"/>\r\n       <use x=\"385.097656\" xlink:href=\"#DejaVuSans-65\"/>\r\n      </g>\r\n     </g>\r\n    </g>\r\n   </g>\r\n   <g id=\"matplotlib.axis_2\">\r\n    <g id=\"ytick_1\">\r\n     <g id=\"line2d_5\">\r\n      <defs>\r\n       <path d=\"M 0 0 \r\nL -3.5 0 \r\n\" id=\"m4019841027\" style=\"stroke:#000000;stroke-width:0.8;\"/>\r\n      </defs>\r\n      <g>\r\n       <use style=\"stroke:#000000;stroke-width:0.8;\" x=\"65.884375\" xlink:href=\"#m4019841027\" y=\"38.375\"/>\r\n      </g>\r\n     </g>\r\n     <g id=\"text_5\">\r\n      <!-- ^BVSP -->\r\n      <g transform=\"translate(24.7375 42.174219)scale(0.1 -0.1)\">\r\n       <use xlink:href=\"#DejaVuSans-94\"/>\r\n       <use x=\"83.789062\" xlink:href=\"#DejaVuSans-66\"/>\r\n       <use x=\"149.267578\" xlink:href=\"#DejaVuSans-86\"/>\r\n       <use x=\"217.675781\" xlink:href=\"#DejaVuSans-83\"/>\r\n       <use x=\"281.152344\" xlink:href=\"#DejaVuSans-80\"/>\r\n      </g>\r\n     </g>\r\n    </g>\r\n    <g id=\"ytick_2\">\r\n     <g id=\"line2d_6\">\r\n      <g>\r\n       <use style=\"stroke:#000000;stroke-width:0.8;\" x=\"65.884375\" xlink:href=\"#m4019841027\" y=\"100.725\"/>\r\n      </g>\r\n     </g>\r\n     <g id=\"text_6\">\r\n      <!-- MGLU3.SA -->\r\n      <g transform=\"translate(7.2 104.524219)scale(0.1 -0.1)\">\r\n       <use xlink:href=\"#DejaVuSans-77\"/>\r\n       <use x=\"86.279297\" xlink:href=\"#DejaVuSans-71\"/>\r\n       <use x=\"163.769531\" xlink:href=\"#DejaVuSans-76\"/>\r\n       <use x=\"214.482422\" xlink:href=\"#DejaVuSans-85\"/>\r\n       <use x=\"287.675781\" xlink:href=\"#DejaVuSans-51\"/>\r\n       <use x=\"351.298828\" xlink:href=\"#DejaVuSans-46\"/>\r\n       <use x=\"383.085938\" xlink:href=\"#DejaVuSans-83\"/>\r\n       <use x=\"448.4375\" xlink:href=\"#DejaVuSans-65\"/>\r\n      </g>\r\n     </g>\r\n    </g>\r\n    <g id=\"ytick_3\">\r\n     <g id=\"line2d_7\">\r\n      <g>\r\n       <use style=\"stroke:#000000;stroke-width:0.8;\" x=\"65.884375\" xlink:href=\"#m4019841027\" y=\"163.075\"/>\r\n      </g>\r\n     </g>\r\n     <g id=\"text_7\">\r\n      <!-- IRBR3.SA -->\r\n      <g transform=\"translate(12.259375 166.874219)scale(0.1 -0.1)\">\r\n       <use xlink:href=\"#DejaVuSans-73\"/>\r\n       <use x=\"29.492188\" xlink:href=\"#DejaVuSans-82\"/>\r\n       <use x=\"98.974609\" xlink:href=\"#DejaVuSans-66\"/>\r\n       <use x=\"167.578125\" xlink:href=\"#DejaVuSans-82\"/>\r\n       <use x=\"237.060547\" xlink:href=\"#DejaVuSans-51\"/>\r\n       <use x=\"300.683594\" xlink:href=\"#DejaVuSans-46\"/>\r\n       <use x=\"332.470703\" xlink:href=\"#DejaVuSans-83\"/>\r\n       <use x=\"397.822266\" xlink:href=\"#DejaVuSans-65\"/>\r\n      </g>\r\n     </g>\r\n    </g>\r\n    <g id=\"ytick_4\">\r\n     <g id=\"line2d_8\">\r\n      <g>\r\n       <use style=\"stroke:#000000;stroke-width:0.8;\" x=\"65.884375\" xlink:href=\"#m4019841027\" y=\"225.425\"/>\r\n      </g>\r\n     </g>\r\n     <g id=\"text_8\">\r\n      <!-- ITSA4.SA -->\r\n      <g transform=\"translate(13.532813 229.224219)scale(0.1 -0.1)\">\r\n       <use xlink:href=\"#DejaVuSans-73\"/>\r\n       <use x=\"29.492188\" xlink:href=\"#DejaVuSans-84\"/>\r\n       <use x=\"90.576172\" xlink:href=\"#DejaVuSans-83\"/>\r\n       <use x=\"155.927734\" xlink:href=\"#DejaVuSans-65\"/>\r\n       <use x=\"224.335938\" xlink:href=\"#DejaVuSans-52\"/>\r\n       <use x=\"287.958984\" xlink:href=\"#DejaVuSans-46\"/>\r\n       <use x=\"319.746094\" xlink:href=\"#DejaVuSans-83\"/>\r\n       <use x=\"385.097656\" xlink:href=\"#DejaVuSans-65\"/>\r\n      </g>\r\n     </g>\r\n    </g>\r\n   </g>\r\n   <g id=\"patch_3\">\r\n    <path d=\"M 65.884375 256.6 \r\nL 65.884375 7.2 \r\n\" style=\"fill:none;stroke:#000000;stroke-linecap:square;stroke-linejoin:miter;stroke-width:0.8;\"/>\r\n   </g>\r\n   <g id=\"patch_4\">\r\n    <path d=\"M 315.284375 256.6 \r\nL 315.284375 7.2 \r\n\" style=\"fill:none;stroke:#000000;stroke-linecap:square;stroke-linejoin:miter;stroke-width:0.8;\"/>\r\n   </g>\r\n   <g id=\"patch_5\">\r\n    <path d=\"M 65.884375 256.6 \r\nL 315.284375 256.6 \r\n\" style=\"fill:none;stroke:#000000;stroke-linecap:square;stroke-linejoin:miter;stroke-width:0.8;\"/>\r\n   </g>\r\n   <g id=\"patch_6\">\r\n    <path d=\"M 65.884375 7.2 \r\nL 315.284375 7.2 \r\n\" style=\"fill:none;stroke:#000000;stroke-linecap:square;stroke-linejoin:miter;stroke-width:0.8;\"/>\r\n   </g>\r\n   <g id=\"text_9\">\r\n    <!-- 1.0 -->\r\n    <g style=\"fill:#ffffff;\" transform=\"translate(89.107813 41.134375)scale(0.1 -0.1)\">\r\n     <defs>\r\n      <path d=\"M 12.40625 8.296875 \r\nL 28.515625 8.296875 \r\nL 28.515625 63.921875 \r\nL 10.984375 60.40625 \r\nL 10.984375 69.390625 \r\nL 28.421875 72.90625 \r\nL 38.28125 72.90625 \r\nL 38.28125 8.296875 \r\nL 54.390625 8.296875 \r\nL 54.390625 0 \r\nL 12.40625 0 \r\nz\r\n\" id=\"DejaVuSans-49\"/>\r\n      <path d=\"M 31.78125 66.40625 \r\nQ 24.171875 66.40625 20.328125 58.90625 \r\nQ 16.5 51.421875 16.5 36.375 \r\nQ 16.5 21.390625 20.328125 13.890625 \r\nQ 24.171875 6.390625 31.78125 6.390625 \r\nQ 39.453125 6.390625 43.28125 13.890625 \r\nQ 47.125 21.390625 47.125 36.375 \r\nQ 47.125 51.421875 43.28125 58.90625 \r\nQ 39.453125 66.40625 31.78125 66.40625 \r\nz\r\nM 31.78125 74.21875 \r\nQ 44.046875 74.21875 50.515625 64.515625 \r\nQ 56.984375 54.828125 56.984375 36.375 \r\nQ 56.984375 17.96875 50.515625 8.265625 \r\nQ 44.046875 -1.421875 31.78125 -1.421875 \r\nQ 19.53125 -1.421875 13.0625 8.265625 \r\nQ 6.59375 17.96875 6.59375 36.375 \r\nQ 6.59375 54.828125 13.0625 64.515625 \r\nQ 19.53125 74.21875 31.78125 74.21875 \r\nz\r\n\" id=\"DejaVuSans-48\"/>\r\n     </defs>\r\n     <use xlink:href=\"#DejaVuSans-49\"/>\r\n     <use x=\"63.623047\" xlink:href=\"#DejaVuSans-46\"/>\r\n     <use x=\"95.410156\" xlink:href=\"#DejaVuSans-48\"/>\r\n    </g>\r\n   </g>\r\n   <g id=\"text_10\">\r\n    <!-- 0.72 -->\r\n    <g style=\"fill:#ffffff;\" transform=\"translate(148.276563 41.134375)scale(0.1 -0.1)\">\r\n     <defs>\r\n      <path d=\"M 8.203125 72.90625 \r\nL 55.078125 72.90625 \r\nL 55.078125 68.703125 \r\nL 28.609375 0 \r\nL 18.3125 0 \r\nL 43.21875 64.59375 \r\nL 8.203125 64.59375 \r\nz\r\n\" id=\"DejaVuSans-55\"/>\r\n      <path d=\"M 19.1875 8.296875 \r\nL 53.609375 8.296875 \r\nL 53.609375 0 \r\nL 7.328125 0 \r\nL 7.328125 8.296875 \r\nQ 12.9375 14.109375 22.625 23.890625 \r\nQ 32.328125 33.6875 34.8125 36.53125 \r\nQ 39.546875 41.84375 41.421875 45.53125 \r\nQ 43.3125 49.21875 43.3125 52.78125 \r\nQ 43.3125 58.59375 39.234375 62.25 \r\nQ 35.15625 65.921875 28.609375 65.921875 \r\nQ 23.96875 65.921875 18.8125 64.3125 \r\nQ 13.671875 62.703125 7.8125 59.421875 \r\nL 7.8125 69.390625 \r\nQ 13.765625 71.78125 18.9375 73 \r\nQ 24.125 74.21875 28.421875 74.21875 \r\nQ 39.75 74.21875 46.484375 68.546875 \r\nQ 53.21875 62.890625 53.21875 53.421875 \r\nQ 53.21875 48.921875 51.53125 44.890625 \r\nQ 49.859375 40.875 45.40625 35.40625 \r\nQ 44.1875 33.984375 37.640625 27.21875 \r\nQ 31.109375 20.453125 19.1875 8.296875 \r\nz\r\n\" id=\"DejaVuSans-50\"/>\r\n     </defs>\r\n     <use xlink:href=\"#DejaVuSans-48\"/>\r\n     <use x=\"63.623047\" xlink:href=\"#DejaVuSans-46\"/>\r\n     <use x=\"95.410156\" xlink:href=\"#DejaVuSans-55\"/>\r\n     <use x=\"159.033203\" xlink:href=\"#DejaVuSans-50\"/>\r\n    </g>\r\n   </g>\r\n   <g id=\"text_11\">\r\n    <!-- 0.29 -->\r\n    <g style=\"fill:#ffffff;\" transform=\"translate(210.626563 41.134375)scale(0.1 -0.1)\">\r\n     <defs>\r\n      <path d=\"M 10.984375 1.515625 \r\nL 10.984375 10.5 \r\nQ 14.703125 8.734375 18.5 7.8125 \r\nQ 22.3125 6.890625 25.984375 6.890625 \r\nQ 35.75 6.890625 40.890625 13.453125 \r\nQ 46.046875 20.015625 46.78125 33.40625 \r\nQ 43.953125 29.203125 39.59375 26.953125 \r\nQ 35.25 24.703125 29.984375 24.703125 \r\nQ 19.046875 24.703125 12.671875 31.3125 \r\nQ 6.296875 37.9375 6.296875 49.421875 \r\nQ 6.296875 60.640625 12.9375 67.421875 \r\nQ 19.578125 74.21875 30.609375 74.21875 \r\nQ 43.265625 74.21875 49.921875 64.515625 \r\nQ 56.59375 54.828125 56.59375 36.375 \r\nQ 56.59375 19.140625 48.40625 8.859375 \r\nQ 40.234375 -1.421875 26.421875 -1.421875 \r\nQ 22.703125 -1.421875 18.890625 -0.6875 \r\nQ 15.09375 0.046875 10.984375 1.515625 \r\nz\r\nM 30.609375 32.421875 \r\nQ 37.25 32.421875 41.125 36.953125 \r\nQ 45.015625 41.5 45.015625 49.421875 \r\nQ 45.015625 57.28125 41.125 61.84375 \r\nQ 37.25 66.40625 30.609375 66.40625 \r\nQ 23.96875 66.40625 20.09375 61.84375 \r\nQ 16.21875 57.28125 16.21875 49.421875 \r\nQ 16.21875 41.5 20.09375 36.953125 \r\nQ 23.96875 32.421875 30.609375 32.421875 \r\nz\r\n\" id=\"DejaVuSans-57\"/>\r\n     </defs>\r\n     <use xlink:href=\"#DejaVuSans-48\"/>\r\n     <use x=\"63.623047\" xlink:href=\"#DejaVuSans-46\"/>\r\n     <use x=\"95.410156\" xlink:href=\"#DejaVuSans-50\"/>\r\n     <use x=\"159.033203\" xlink:href=\"#DejaVuSans-57\"/>\r\n    </g>\r\n   </g>\r\n   <g id=\"text_12\">\r\n    <!-- 0.77 -->\r\n    <g style=\"fill:#ffffff;\" transform=\"translate(272.976562 41.134375)scale(0.1 -0.1)\">\r\n     <use xlink:href=\"#DejaVuSans-48\"/>\r\n     <use x=\"63.623047\" xlink:href=\"#DejaVuSans-46\"/>\r\n     <use x=\"95.410156\" xlink:href=\"#DejaVuSans-55\"/>\r\n     <use x=\"159.033203\" xlink:href=\"#DejaVuSans-55\"/>\r\n    </g>\r\n   </g>\r\n   <g id=\"text_13\">\r\n    <!-- 0.72 -->\r\n    <g style=\"fill:#ffffff;\" transform=\"translate(85.926563 103.484375)scale(0.1 -0.1)\">\r\n     <use xlink:href=\"#DejaVuSans-48\"/>\r\n     <use x=\"63.623047\" xlink:href=\"#DejaVuSans-46\"/>\r\n     <use x=\"95.410156\" xlink:href=\"#DejaVuSans-55\"/>\r\n     <use x=\"159.033203\" xlink:href=\"#DejaVuSans-50\"/>\r\n    </g>\r\n   </g>\r\n   <g id=\"text_14\">\r\n    <!-- 1.0 -->\r\n    <g style=\"fill:#ffffff;\" transform=\"translate(151.457813 103.484375)scale(0.1 -0.1)\">\r\n     <use xlink:href=\"#DejaVuSans-49\"/>\r\n     <use x=\"63.623047\" xlink:href=\"#DejaVuSans-46\"/>\r\n     <use x=\"95.410156\" xlink:href=\"#DejaVuSans-48\"/>\r\n    </g>\r\n   </g>\r\n   <g id=\"text_15\">\r\n    <!-- -0.32 -->\r\n    <g style=\"fill:#ffffff;\" transform=\"translate(208.822656 103.484375)scale(0.1 -0.1)\">\r\n     <defs>\r\n      <path d=\"M 4.890625 31.390625 \r\nL 31.203125 31.390625 \r\nL 31.203125 23.390625 \r\nL 4.890625 23.390625 \r\nz\r\n\" id=\"DejaVuSans-45\"/>\r\n     </defs>\r\n     <use xlink:href=\"#DejaVuSans-45\"/>\r\n     <use x=\"36.083984\" xlink:href=\"#DejaVuSans-48\"/>\r\n     <use x=\"99.707031\" xlink:href=\"#DejaVuSans-46\"/>\r\n     <use x=\"131.494141\" xlink:href=\"#DejaVuSans-51\"/>\r\n     <use x=\"195.117188\" xlink:href=\"#DejaVuSans-50\"/>\r\n    </g>\r\n   </g>\r\n   <g id=\"text_16\">\r\n    <!-- 0.21 -->\r\n    <g style=\"fill:#ffffff;\" transform=\"translate(272.976562 103.484375)scale(0.1 -0.1)\">\r\n     <use xlink:href=\"#DejaVuSans-48\"/>\r\n     <use x=\"63.623047\" xlink:href=\"#DejaVuSans-46\"/>\r\n     <use x=\"95.410156\" xlink:href=\"#DejaVuSans-50\"/>\r\n     <use x=\"159.033203\" xlink:href=\"#DejaVuSans-49\"/>\r\n    </g>\r\n   </g>\r\n   <g id=\"text_17\">\r\n    <!-- 0.29 -->\r\n    <g style=\"fill:#ffffff;\" transform=\"translate(85.926563 165.834375)scale(0.1 -0.1)\">\r\n     <use xlink:href=\"#DejaVuSans-48\"/>\r\n     <use x=\"63.623047\" xlink:href=\"#DejaVuSans-46\"/>\r\n     <use x=\"95.410156\" xlink:href=\"#DejaVuSans-50\"/>\r\n     <use x=\"159.033203\" xlink:href=\"#DejaVuSans-57\"/>\r\n    </g>\r\n   </g>\r\n   <g id=\"text_18\">\r\n    <!-- -0.32 -->\r\n    <g style=\"fill:#ffffff;\" transform=\"translate(146.472656 165.834375)scale(0.1 -0.1)\">\r\n     <use xlink:href=\"#DejaVuSans-45\"/>\r\n     <use x=\"36.083984\" xlink:href=\"#DejaVuSans-48\"/>\r\n     <use x=\"99.707031\" xlink:href=\"#DejaVuSans-46\"/>\r\n     <use x=\"131.494141\" xlink:href=\"#DejaVuSans-51\"/>\r\n     <use x=\"195.117188\" xlink:href=\"#DejaVuSans-50\"/>\r\n    </g>\r\n   </g>\r\n   <g id=\"text_19\">\r\n    <!-- 1.0 -->\r\n    <g style=\"fill:#ffffff;\" transform=\"translate(213.807813 165.834375)scale(0.1 -0.1)\">\r\n     <use xlink:href=\"#DejaVuSans-49\"/>\r\n     <use x=\"63.623047\" xlink:href=\"#DejaVuSans-46\"/>\r\n     <use x=\"95.410156\" xlink:href=\"#DejaVuSans-48\"/>\r\n    </g>\r\n   </g>\r\n   <g id=\"text_20\">\r\n    <!-- 0.73 -->\r\n    <g style=\"fill:#ffffff;\" transform=\"translate(272.976562 165.834375)scale(0.1 -0.1)\">\r\n     <use xlink:href=\"#DejaVuSans-48\"/>\r\n     <use x=\"63.623047\" xlink:href=\"#DejaVuSans-46\"/>\r\n     <use x=\"95.410156\" xlink:href=\"#DejaVuSans-55\"/>\r\n     <use x=\"159.033203\" xlink:href=\"#DejaVuSans-51\"/>\r\n    </g>\r\n   </g>\r\n   <g id=\"text_21\">\r\n    <!-- 0.77 -->\r\n    <g style=\"fill:#ffffff;\" transform=\"translate(85.926563 228.184375)scale(0.1 -0.1)\">\r\n     <use xlink:href=\"#DejaVuSans-48\"/>\r\n     <use x=\"63.623047\" xlink:href=\"#DejaVuSans-46\"/>\r\n     <use x=\"95.410156\" xlink:href=\"#DejaVuSans-55\"/>\r\n     <use x=\"159.033203\" xlink:href=\"#DejaVuSans-55\"/>\r\n    </g>\r\n   </g>\r\n   <g id=\"text_22\">\r\n    <!-- 0.21 -->\r\n    <g style=\"fill:#ffffff;\" transform=\"translate(148.276563 228.184375)scale(0.1 -0.1)\">\r\n     <use xlink:href=\"#DejaVuSans-48\"/>\r\n     <use x=\"63.623047\" xlink:href=\"#DejaVuSans-46\"/>\r\n     <use x=\"95.410156\" xlink:href=\"#DejaVuSans-50\"/>\r\n     <use x=\"159.033203\" xlink:href=\"#DejaVuSans-49\"/>\r\n    </g>\r\n   </g>\r\n   <g id=\"text_23\">\r\n    <!-- 0.73 -->\r\n    <g style=\"fill:#ffffff;\" transform=\"translate(210.626563 228.184375)scale(0.1 -0.1)\">\r\n     <use xlink:href=\"#DejaVuSans-48\"/>\r\n     <use x=\"63.623047\" xlink:href=\"#DejaVuSans-46\"/>\r\n     <use x=\"95.410156\" xlink:href=\"#DejaVuSans-55\"/>\r\n     <use x=\"159.033203\" xlink:href=\"#DejaVuSans-51\"/>\r\n    </g>\r\n   </g>\r\n   <g id=\"text_24\">\r\n    <!-- 1.0 -->\r\n    <g style=\"fill:#ffffff;\" transform=\"translate(276.157812 228.184375)scale(0.1 -0.1)\">\r\n     <use xlink:href=\"#DejaVuSans-49\"/>\r\n     <use x=\"63.623047\" xlink:href=\"#DejaVuSans-46\"/>\r\n     <use x=\"95.410156\" xlink:href=\"#DejaVuSans-48\"/>\r\n    </g>\r\n   </g>\r\n  </g>\r\n </g>\r\n <defs>\r\n  <clipPath id=\"p190f67c1d1\">\r\n   <rect height=\"249.4\" width=\"249.4\" x=\"65.884375\" y=\"7.2\"/>\r\n  </clipPath>\r\n </defs>\r\n</svg>\r\n",
      "image/png": "[encoded data removed]"
     },
     "metadata": {
      "needs_background": "light"
     }
    }
   ],
   "source": [
    "fig, ax = plt.subplots()\n",
    "im = ax.imshow(correlacao.values)\n",
    "ax.set_xticks(range(len(correlacao)))\n",
    "ax.set_yticks(range(len(correlacao)))\n",
    "ax.set_xticklabels(correlacao.columns, size=10)\n",
    "ax.set_yticklabels(correlacao.columns)\n",
    "for i in range(len(correlacao)):\n",
    "    for j in range(len(correlacao)):\n",
    "        text = ax.text(j, i, round(correlacao.values[i, j],2),\n",
    "                    ha=\"center\", va=\"center\", color=\"w\")\n",
    "fig.tight_layout()\n",
    "plt.show()"
   ]
  }
 ]
}