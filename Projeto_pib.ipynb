{
 "metadata": {
  "language_info": {
   "codemirror_mode": {
    "name": "ipython",
    "version": 3
   },
   "file_extension": ".py",
   "mimetype": "text/x-python",
   "name": "python",
   "nbconvert_exporter": "python",
   "pygments_lexer": "ipython3",
   "version": "3.8.5-final"
  },
  "orig_nbformat": 2,
  "kernelspec": {
   "name": "python3",
   "display_name": "Python 3",
   "language": "python"
  }
 },
 "nbformat": 4,
 "nbformat_minor": 2,
 "cells": [
  {
   "cell_type": "code",
   "execution_count": null,
   "metadata": {},
   "outputs": [],
   "source": [
    "import pandas as pd \r\n",
    "from pandas_datareader import  wb \r\n",
    "from functions import graf_plotly\r\n",
    "import numpy as np \r\n",
    "import plotly.graph_objects as go"
   ]
  },
  {
   "cell_type": "code",
   "execution_count": null,
   "metadata": {},
   "outputs": [],
   "source": [
    "paises = pd.read_csv('base_csv\\paises_wb.csv', sep=';')\n",
    "inicio = 1900\n",
    "fim = 2020"
   ]
  },
  {
   "cell_type": "code",
   "execution_count": null,
   "metadata": {},
   "outputs": [],
   "source": [
    "paises"
   ]
  },
  {
   "cell_type": "code",
   "execution_count": null,
   "metadata": {},
   "outputs": [],
   "source": [
    "data = pd.DataFrame()\n",
    "for index,row in paises.iterrows():\n",
    "    data1 = wb.download(indicator='NY.GDP.PCAP.CD', country=f'{row[\"codigo\"]}', start=inicio,end=fim)\n",
    "    data1 = data1.reset_index(0)\n",
    "    data1 = data1.rename(columns={'NY.GDP.PCAP.CD': f'{row[\"country\"]}'})\n",
    "    data1 = data1.drop(['country'], axis=1)\n",
    "    data = pd.concat([data,data1], axis=1)\n",
    "    data = data.sort_index(ascending=True)"
   ]
  },
  {
   "cell_type": "code",
   "execution_count": null,
   "metadata": {},
   "outputs": [],
   "source": [
    "data"
   ]
  },
  {
   "cell_type": "code",
   "execution_count": null,
   "metadata": {},
   "outputs": [],
   "source": [
    "graf_plotly(data, 'Evolução do PIB dos países latino-americanos (U$$) - PER CAPITA')"
   ]
  }
 ]
}