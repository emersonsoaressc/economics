{
 "metadata": {
  "language_info": {
   "codemirror_mode": {
    "name": "ipython",
    "version": 3
   },
   "file_extension": ".py",
   "mimetype": "text/x-python",
   "name": "python",
   "nbconvert_exporter": "python",
   "pygments_lexer": "ipython3",
   "version": "3.8.5-final"
  },
  "orig_nbformat": 2,
  "kernelspec": {
   "name": "python3",
   "display_name": "Python 3",
   "language": "python"
  }
 },
 "nbformat": 4,
 "nbformat_minor": 2,
 "cells": [
  {
   "cell_type": "code",
   "execution_count": 148,
   "metadata": {},
   "outputs": [],
   "source": [
    "import pandas as pd \n",
    "import streamlit as st\n",
    "import functions as fc\n",
    "import home\n",
    "import sgs\n",
    "import plotly.graph_objects as go"
   ]
  },
  {
   "cell_type": "code",
   "execution_count": 149,
   "metadata": {},
   "outputs": [
    {
     "output_type": "execute_result",
     "data": {
      "text/plain": [
       "                            serie                           lista\n",
       "codigo                                                           \n",
       "1635          Alimentos e bebidas        1635-Alimentos e bebidas\n",
       "1636                    Habitação                  1636-Habitação\n",
       "1637              Bens domésticos            1637-Bens domésticos\n",
       "1638                    Vestuário                  1638-Vestuário\n",
       "1639                  Transportes                1639-Transportes\n",
       "1640                  Comunicação                1640-Comunicação\n",
       "1641    Saúde e cuidados pessoais  1641-Saúde e cuidados pessoais\n",
       "1642            Despesas pessoais          1642-Despesas pessoais\n",
       "1643                     Educação                   1643-Educação\n",
       "13522     IPCA Acumulado 12 meses   13522-IPCA Acumulado 12 meses\n",
       "433         Variação Mensal Total       433-Variação Mensal Total"
      ],
      "text/html": "<div>\n<style scoped>\n    .dataframe tbody tr th:only-of-type {\n        vertical-align: middle;\n    }\n\n    .dataframe tbody tr th {\n        vertical-align: top;\n    }\n\n    .dataframe thead th {\n        text-align: right;\n    }\n</style>\n<table border=\"1\" class=\"dataframe\">\n  <thead>\n    <tr style=\"text-align: right;\">\n      <th></th>\n      <th>serie</th>\n      <th>lista</th>\n    </tr>\n    <tr>\n      <th>codigo</th>\n      <th></th>\n      <th></th>\n    </tr>\n  </thead>\n  <tbody>\n    <tr>\n      <th>1635</th>\n      <td>Alimentos e bebidas</td>\n      <td>1635-Alimentos e bebidas</td>\n    </tr>\n    <tr>\n      <th>1636</th>\n      <td>Habitação</td>\n      <td>1636-Habitação</td>\n    </tr>\n    <tr>\n      <th>1637</th>\n      <td>Bens domésticos</td>\n      <td>1637-Bens domésticos</td>\n    </tr>\n    <tr>\n      <th>1638</th>\n      <td>Vestuário</td>\n      <td>1638-Vestuário</td>\n    </tr>\n    <tr>\n      <th>1639</th>\n      <td>Transportes</td>\n      <td>1639-Transportes</td>\n    </tr>\n    <tr>\n      <th>1640</th>\n      <td>Comunicação</td>\n      <td>1640-Comunicação</td>\n    </tr>\n    <tr>\n      <th>1641</th>\n      <td>Saúde e cuidados pessoais</td>\n      <td>1641-Saúde e cuidados pessoais</td>\n    </tr>\n    <tr>\n      <th>1642</th>\n      <td>Despesas pessoais</td>\n      <td>1642-Despesas pessoais</td>\n    </tr>\n    <tr>\n      <th>1643</th>\n      <td>Educação</td>\n      <td>1643-Educação</td>\n    </tr>\n    <tr>\n      <th>13522</th>\n      <td>IPCA Acumulado 12 meses</td>\n      <td>13522-IPCA Acumulado 12 meses</td>\n    </tr>\n    <tr>\n      <th>433</th>\n      <td>Variação Mensal Total</td>\n      <td>433-Variação Mensal Total</td>\n    </tr>\n  </tbody>\n</table>\n</div>"
     },
     "metadata": {},
     "execution_count": 149
    }
   ],
   "source": [
    "# Lista de códigos da API SGS BACEN\n",
    "cod_list = pd.read_csv('base_csv/cod_ipca.csv', sep=';').set_index('codigo')\n",
    "cod_list"
   ]
  },
  {
   "cell_type": "code",
   "execution_count": 150,
   "metadata": {},
   "outputs": [],
   "source": [
    "def df_sgs(lista_sgs,ano_inicio, ano_fim, name):\n",
    "    df = pd.DataFrame()\n",
    "    for i in lista_sgs:\n",
    "        data_inicio = ano_inicio\n",
    "        data_fim = ano_fim\n",
    "        split = i.split(sep='-')\n",
    "        df1 = sgs.time_serie(split[0], data_inicio, data_fim,True)\n",
    "        df1 = pd.DataFrame(df1)\n",
    "        df1 = df1.rename(columns={f'{split[0]}':f'{split[1]}'})\n",
    "        df = pd.concat([df,df1], axis=1)\n",
    "    return df.to_csv(f'base_csv/base_{name}.csv')"
   ]
  },
  {
   "cell_type": "code",
   "execution_count": 151,
   "metadata": {},
   "outputs": [],
   "source": [
    "df_sgs(cod_list['lista'], '01/01/1980', '01/01/2021', 'ipca')"
   ]
  },
  {
   "cell_type": "code",
   "execution_count": 168,
   "metadata": {},
   "outputs": [
    {
     "output_type": "execute_result",
     "data": {
      "text/plain": [
       "            IPCA Acumulado 12 meses\n",
       "2019-01-01                     3.78\n",
       "2019-02-01                     3.89\n",
       "2019-03-01                     4.58\n",
       "2019-04-01                     4.94\n",
       "2019-05-01                     4.66\n",
       "2019-06-01                     3.37\n",
       "2019-07-01                     3.22\n",
       "2019-08-01                     3.43\n",
       "2019-09-01                     2.89\n",
       "2019-10-01                     2.54\n",
       "2019-11-01                     3.27\n",
       "2019-12-01                     4.31\n",
       "2020-01-01                     4.19\n",
       "2020-02-01                     4.01\n",
       "2020-03-01                     3.30\n",
       "2020-04-01                     2.40\n",
       "2020-05-01                     1.88\n",
       "2020-06-01                     2.13\n",
       "2020-07-01                     2.31\n",
       "2020-08-01                     2.44\n",
       "2020-09-01                     3.14\n",
       "2020-10-01                     3.92\n",
       "2020-11-01                     4.31\n",
       "2020-12-01                     4.52"
      ],
      "text/html": "<div>\n<style scoped>\n    .dataframe tbody tr th:only-of-type {\n        vertical-align: middle;\n    }\n\n    .dataframe tbody tr th {\n        vertical-align: top;\n    }\n\n    .dataframe thead th {\n        text-align: right;\n    }\n</style>\n<table border=\"1\" class=\"dataframe\">\n  <thead>\n    <tr style=\"text-align: right;\">\n      <th></th>\n      <th>IPCA Acumulado 12 meses</th>\n    </tr>\n  </thead>\n  <tbody>\n    <tr>\n      <th>2019-01-01</th>\n      <td>3.78</td>\n    </tr>\n    <tr>\n      <th>2019-02-01</th>\n      <td>3.89</td>\n    </tr>\n    <tr>\n      <th>2019-03-01</th>\n      <td>4.58</td>\n    </tr>\n    <tr>\n      <th>2019-04-01</th>\n      <td>4.94</td>\n    </tr>\n    <tr>\n      <th>2019-05-01</th>\n      <td>4.66</td>\n    </tr>\n    <tr>\n      <th>2019-06-01</th>\n      <td>3.37</td>\n    </tr>\n    <tr>\n      <th>2019-07-01</th>\n      <td>3.22</td>\n    </tr>\n    <tr>\n      <th>2019-08-01</th>\n      <td>3.43</td>\n    </tr>\n    <tr>\n      <th>2019-09-01</th>\n      <td>2.89</td>\n    </tr>\n    <tr>\n      <th>2019-10-01</th>\n      <td>2.54</td>\n    </tr>\n    <tr>\n      <th>2019-11-01</th>\n      <td>3.27</td>\n    </tr>\n    <tr>\n      <th>2019-12-01</th>\n      <td>4.31</td>\n    </tr>\n    <tr>\n      <th>2020-01-01</th>\n      <td>4.19</td>\n    </tr>\n    <tr>\n      <th>2020-02-01</th>\n      <td>4.01</td>\n    </tr>\n    <tr>\n      <th>2020-03-01</th>\n      <td>3.30</td>\n    </tr>\n    <tr>\n      <th>2020-04-01</th>\n      <td>2.40</td>\n    </tr>\n    <tr>\n      <th>2020-05-01</th>\n      <td>1.88</td>\n    </tr>\n    <tr>\n      <th>2020-06-01</th>\n      <td>2.13</td>\n    </tr>\n    <tr>\n      <th>2020-07-01</th>\n      <td>2.31</td>\n    </tr>\n    <tr>\n      <th>2020-08-01</th>\n      <td>2.44</td>\n    </tr>\n    <tr>\n      <th>2020-09-01</th>\n      <td>3.14</td>\n    </tr>\n    <tr>\n      <th>2020-10-01</th>\n      <td>3.92</td>\n    </tr>\n    <tr>\n      <th>2020-11-01</th>\n      <td>4.31</td>\n    </tr>\n    <tr>\n      <th>2020-12-01</th>\n      <td>4.52</td>\n    </tr>\n  </tbody>\n</table>\n</div>"
     },
     "metadata": {},
     "execution_count": 168
    }
   ],
   "source": [
    "df = pd.read_csv('base_csv/base_ipca.csv', encoding='UTF-8', sep=',', index_col=0)\n",
    "df1 = pd.DataFrame(df['IPCA Acumulado 12 meses'])\n",
    "df1"
   ]
  },
  {
   "cell_type": "code",
   "execution_count": 174,
   "metadata": {},
   "outputs": [],
   "source": [
    "def graf_plotly(data_frame,ano_inicio, ano_fim, titulo):\n",
    "    fig = go.Figure()\n",
    "    fig.update_layout(\n",
    "    title= f'{titulo}',      \n",
    "    xaxis=dict(\n",
    "        showline=True,\n",
    "        showgrid=False,\n",
    "        showticklabels=True,\n",
    "        linecolor='rgb(204, 204, 204)',\n",
    "        linewidth=2,\n",
    "        ticks='outside',\n",
    "        tickfont=dict(\n",
    "            family='Arial',\n",
    "            size=12,\n",
    "            color='rgb(82, 82, 82)',\n",
    "        ),\n",
    "    ),\n",
    "    yaxis=dict(\n",
    "        title= '%',\n",
    "        showgrid=False,\n",
    "        zeroline=True,\n",
    "        showline=True,\n",
    "        showticklabels=True,\n",
    "    ),\n",
    "    autosize=False,\n",
    "    margin=dict(\n",
    "        autoexpand=True,\n",
    "        l=100,\n",
    "        r=20,\n",
    "        t=110,\n",
    "    ),\n",
    "    showlegend=True,\n",
    "    plot_bgcolor='white',\n",
    "    legend = dict(title='Legenda')\n",
    "    )\n",
    "    for i in data_frame.columns:\n",
    "        lines = fig.add_trace(go.Scatter(x=df.index, y=df[f'{i}'], name= f\"{i}\"  ))\n",
    "    return lines"
   ]
  },
  {
   "cell_type": "code",
   "execution_count": 175,
   "metadata": {},
   "outputs": [
    {
     "output_type": "display_data",
     "data": {
      "application/vnd.plotly.v1+json": {
       "config": {
        "plotlyServerURL": "https://plot.ly"
       },
       "data": [
        {
         "name": "Alimentos e bebidas",
         "type": "scatter",
         "x": [
          "2019-01-01",
          "2019-02-01",
          "2019-03-01",
          "2019-04-01",
          "2019-05-01",
          "2019-06-01",
          "2019-07-01",
          "2019-08-01",
          "2019-09-01",
          "2019-10-01",
          "2019-11-01",
          "2019-12-01",
          "2020-01-01",
          "2020-02-01",
          "2020-03-01",
          "2020-04-01",
          "2020-05-01",
          "2020-06-01",
          "2020-07-01",
          "2020-08-01",
          "2020-09-01",
          "2020-10-01",
          "2020-11-01",
          "2020-12-01"
         ],
         "y": [
          0.9,
          0.78,
          1.37,
          0.63,
          -0.56,
          -0.25,
          0.01,
          -0.35,
          -0.43,
          0.05,
          0.72,
          3.38,
          0.39,
          0.11,
          1.13,
          1.79,
          0.24,
          0.38,
          0.01,
          0.78,
          2.28,
          1.93,
          2.54,
          1.74
         ]
        },
        {
         "name": "Habitação",
         "type": "scatter",
         "x": [
          "2019-01-01",
          "2019-02-01",
          "2019-03-01",
          "2019-04-01",
          "2019-05-01",
          "2019-06-01",
          "2019-07-01",
          "2019-08-01",
          "2019-09-01",
          "2019-10-01",
          "2019-11-01",
          "2019-12-01",
          "2020-01-01",
          "2020-02-01",
          "2020-03-01",
          "2020-04-01",
          "2020-05-01",
          "2020-06-01",
          "2020-07-01",
          "2020-08-01",
          "2020-09-01",
          "2020-10-01",
          "2020-11-01",
          "2020-12-01"
         ],
         "y": [
          0.24,
          0.38,
          0.25,
          0.24,
          0.98,
          0.07,
          1.2,
          1.19,
          0.02,
          -0.61,
          0.71,
          -0.82,
          0.55,
          -0.39,
          0.13,
          -0.1,
          -0.25,
          0.04,
          0.8,
          0.36,
          0.37,
          0.36,
          0.44,
          2.88
         ]
        },
        {
         "name": "Bens domésticos",
         "type": "scatter",
         "x": [
          "2019-01-01",
          "2019-02-01",
          "2019-03-01",
          "2019-04-01",
          "2019-05-01",
          "2019-06-01",
          "2019-07-01",
          "2019-08-01",
          "2019-09-01",
          "2019-10-01",
          "2019-11-01",
          "2019-12-01",
          "2020-01-01",
          "2020-02-01",
          "2020-03-01",
          "2020-04-01",
          "2020-05-01",
          "2020-06-01",
          "2020-07-01",
          "2020-08-01",
          "2020-09-01",
          "2020-10-01",
          "2020-11-01",
          "2020-12-01"
         ],
         "y": [
          0.32,
          0.2,
          0.27,
          -0.24,
          -0.1,
          0.02,
          0.29,
          0.56,
          -0.76,
          -0.09,
          -0.36,
          -0.48,
          -0.07,
          -0.08,
          -1.08,
          -1.37,
          0.58,
          1.3,
          0.9,
          0.56,
          1,
          1.53,
          0.86,
          1.76
         ]
        },
        {
         "name": "Vestuário",
         "type": "scatter",
         "x": [
          "2019-01-01",
          "2019-02-01",
          "2019-03-01",
          "2019-04-01",
          "2019-05-01",
          "2019-06-01",
          "2019-07-01",
          "2019-08-01",
          "2019-09-01",
          "2019-10-01",
          "2019-11-01",
          "2019-12-01",
          "2020-01-01",
          "2020-02-01",
          "2020-03-01",
          "2020-04-01",
          "2020-05-01",
          "2020-06-01",
          "2020-07-01",
          "2020-08-01",
          "2020-09-01",
          "2020-10-01",
          "2020-11-01",
          "2020-12-01"
         ],
         "y": [
          -1.15,
          -0.33,
          0.45,
          0.18,
          0.34,
          0.3,
          -0.52,
          0.23,
          0.27,
          0.63,
          0.35,
          0,
          -0.48,
          -0.73,
          0.21,
          0.1,
          -0.58,
          -0.46,
          -0.52,
          -0.78,
          0.37,
          1.11,
          0.07,
          0.59
         ]
        },
        {
         "name": "Transportes",
         "type": "scatter",
         "x": [
          "2019-01-01",
          "2019-02-01",
          "2019-03-01",
          "2019-04-01",
          "2019-05-01",
          "2019-06-01",
          "2019-07-01",
          "2019-08-01",
          "2019-09-01",
          "2019-10-01",
          "2019-11-01",
          "2019-12-01",
          "2020-01-01",
          "2020-02-01",
          "2020-03-01",
          "2020-04-01",
          "2020-05-01",
          "2020-06-01",
          "2020-07-01",
          "2020-08-01",
          "2020-09-01",
          "2020-10-01",
          "2020-11-01",
          "2020-12-01"
         ],
         "y": [
          0.02,
          -0.34,
          1.44,
          0.94,
          0.07,
          -0.31,
          -0.17,
          -0.39,
          0,
          0.45,
          0.3,
          1.54,
          0.32,
          -0.23,
          -0.9,
          -2.66,
          -1.9,
          0.31,
          0.78,
          0.82,
          0.7,
          1.19,
          1.33,
          1.36
         ]
        },
        {
         "name": "Comunicação",
         "type": "scatter",
         "x": [
          "2019-01-01",
          "2019-02-01",
          "2019-03-01",
          "2019-04-01",
          "2019-05-01",
          "2019-06-01",
          "2019-07-01",
          "2019-08-01",
          "2019-09-01",
          "2019-10-01",
          "2019-11-01",
          "2019-12-01",
          "2020-01-01",
          "2020-02-01",
          "2020-03-01",
          "2020-04-01",
          "2020-05-01",
          "2020-06-01",
          "2020-07-01",
          "2020-08-01",
          "2020-09-01",
          "2020-10-01",
          "2020-11-01",
          "2020-12-01"
         ],
         "y": [
          0.04,
          0,
          -0.22,
          0.03,
          -0.03,
          -0.02,
          0.57,
          0.09,
          -0.01,
          -0.01,
          -0.02,
          0.66,
          0.12,
          0.21,
          0.04,
          -0.2,
          0.24,
          0.75,
          0.51,
          0.67,
          0.15,
          0.21,
          0.29,
          0.39
         ]
        },
        {
         "name": "Saúde e cuidados pessoais",
         "type": "scatter",
         "x": [
          "2019-01-01",
          "2019-02-01",
          "2019-03-01",
          "2019-04-01",
          "2019-05-01",
          "2019-06-01",
          "2019-07-01",
          "2019-08-01",
          "2019-09-01",
          "2019-10-01",
          "2019-11-01",
          "2019-12-01",
          "2020-01-01",
          "2020-02-01",
          "2020-03-01",
          "2020-04-01",
          "2020-05-01",
          "2020-06-01",
          "2020-07-01",
          "2020-08-01",
          "2020-09-01",
          "2020-10-01",
          "2020-11-01",
          "2020-12-01"
         ],
         "y": [
          0.26,
          0.49,
          0.42,
          1.51,
          0.59,
          0.64,
          -0.2,
          -0.03,
          0.58,
          0.4,
          0.21,
          0.42,
          -0.32,
          0.73,
          0.21,
          -0.22,
          -0.1,
          0.35,
          0.44,
          0.5,
          -0.64,
          0.28,
          -0.13,
          0.4
         ]
        },
        {
         "name": "Despesas pessoais",
         "type": "scatter",
         "x": [
          "2019-01-01",
          "2019-02-01",
          "2019-03-01",
          "2019-04-01",
          "2019-05-01",
          "2019-06-01",
          "2019-07-01",
          "2019-08-01",
          "2019-09-01",
          "2019-10-01",
          "2019-11-01",
          "2019-12-01",
          "2020-01-01",
          "2020-02-01",
          "2020-03-01",
          "2020-04-01",
          "2020-05-01",
          "2020-06-01",
          "2020-07-01",
          "2020-08-01",
          "2020-09-01",
          "2020-10-01",
          "2020-11-01",
          "2020-12-01"
         ],
         "y": [
          0.61,
          0.18,
          0.16,
          0.17,
          0.16,
          0.15,
          0.44,
          0.31,
          0.04,
          0.2,
          1.24,
          0.92,
          0.35,
          0.31,
          -0.23,
          -0.14,
          -0.04,
          -0.05,
          -0.11,
          -0.01,
          0.09,
          0.19,
          0.01,
          0.65
         ]
        },
        {
         "name": "Educação",
         "type": "scatter",
         "x": [
          "2019-01-01",
          "2019-02-01",
          "2019-03-01",
          "2019-04-01",
          "2019-05-01",
          "2019-06-01",
          "2019-07-01",
          "2019-08-01",
          "2019-09-01",
          "2019-10-01",
          "2019-11-01",
          "2019-12-01",
          "2020-01-01",
          "2020-02-01",
          "2020-03-01",
          "2020-04-01",
          "2020-05-01",
          "2020-06-01",
          "2020-07-01",
          "2020-08-01",
          "2020-09-01",
          "2020-10-01",
          "2020-11-01",
          "2020-12-01"
         ],
         "y": [
          0.12,
          3.53,
          0.32,
          0.09,
          -0.04,
          0.14,
          0.04,
          0.16,
          0.04,
          0.03,
          0.08,
          0.2,
          0.16,
          3.7,
          0.59,
          0,
          0.02,
          0.05,
          -0.12,
          -3.47,
          -0.09,
          -0.04,
          -0.02,
          0.48
         ]
        },
        {
         "name": "IPCA Acumulado 12 meses",
         "type": "scatter",
         "x": [
          "2019-01-01",
          "2019-02-01",
          "2019-03-01",
          "2019-04-01",
          "2019-05-01",
          "2019-06-01",
          "2019-07-01",
          "2019-08-01",
          "2019-09-01",
          "2019-10-01",
          "2019-11-01",
          "2019-12-01",
          "2020-01-01",
          "2020-02-01",
          "2020-03-01",
          "2020-04-01",
          "2020-05-01",
          "2020-06-01",
          "2020-07-01",
          "2020-08-01",
          "2020-09-01",
          "2020-10-01",
          "2020-11-01",
          "2020-12-01"
         ],
         "y": [
          3.78,
          3.89,
          4.58,
          4.94,
          4.66,
          3.37,
          3.22,
          3.43,
          2.89,
          2.54,
          3.27,
          4.31,
          4.19,
          4.01,
          3.3,
          2.4,
          1.88,
          2.13,
          2.31,
          2.44,
          3.14,
          3.92,
          4.31,
          4.52
         ]
        },
        {
         "name": "Variação Mensal Total",
         "type": "scatter",
         "x": [
          "2019-01-01",
          "2019-02-01",
          "2019-03-01",
          "2019-04-01",
          "2019-05-01",
          "2019-06-01",
          "2019-07-01",
          "2019-08-01",
          "2019-09-01",
          "2019-10-01",
          "2019-11-01",
          "2019-12-01",
          "2020-01-01",
          "2020-02-01",
          "2020-03-01",
          "2020-04-01",
          "2020-05-01",
          "2020-06-01",
          "2020-07-01",
          "2020-08-01",
          "2020-09-01",
          "2020-10-01",
          "2020-11-01",
          "2020-12-01"
         ],
         "y": [
          0.32,
          0.43,
          0.75,
          0.57,
          0.13,
          0.01,
          0.19,
          0.11,
          -0.04,
          0.1,
          0.51,
          1.15,
          0.21,
          0.25,
          0.07,
          -0.31,
          -0.38,
          0.26,
          0.36,
          0.24,
          0.64,
          0.86,
          0.89,
          1.35
         ]
        }
       ],
       "layout": {
        "autosize": false,
        "legend": {
         "title": {
          "text": "Legenda"
         }
        },
        "margin": {
         "autoexpand": false,
         "l": 100,
         "r": 20,
         "t": 110
        },
        "plot_bgcolor": "white",
        "showlegend": true,
        "template": {
         "data": {
          "bar": [
           {
            "error_x": {
             "color": "#2a3f5f"
            },
            "error_y": {
             "color": "#2a3f5f"
            },
            "marker": {
             "line": {
              "color": "#E5ECF6",
              "width": 0.5
             }
            },
            "type": "bar"
           }
          ],
          "barpolar": [
           {
            "marker": {
             "line": {
              "color": "#E5ECF6",
              "width": 0.5
             }
            },
            "type": "barpolar"
           }
          ],
          "carpet": [
           {
            "aaxis": {
             "endlinecolor": "#2a3f5f",
             "gridcolor": "white",
             "linecolor": "white",
             "minorgridcolor": "white",
             "startlinecolor": "#2a3f5f"
            },
            "baxis": {
             "endlinecolor": "#2a3f5f",
             "gridcolor": "white",
             "linecolor": "white",
             "minorgridcolor": "white",
             "startlinecolor": "#2a3f5f"
            },
            "type": "carpet"
           }
          ],
          "choropleth": [
           {
            "colorbar": {
             "outlinewidth": 0,
             "ticks": ""
            },
            "type": "choropleth"
           }
          ],
          "contour": [
           {
            "colorbar": {
             "outlinewidth": 0,
             "ticks": ""
            },
            "colorscale": [
             [
              0,
              "#0d0887"
             ],
             [
              0.1111111111111111,
              "#46039f"
             ],
             [
              0.2222222222222222,
              "#7201a8"
             ],
             [
              0.3333333333333333,
              "#9c179e"
             ],
             [
              0.4444444444444444,
              "#bd3786"
             ],
             [
              0.5555555555555556,
              "#d8576b"
             ],
             [
              0.6666666666666666,
              "#ed7953"
             ],
             [
              0.7777777777777778,
              "#fb9f3a"
             ],
             [
              0.8888888888888888,
              "#fdca26"
             ],
             [
              1,
              "#f0f921"
             ]
            ],
            "type": "contour"
           }
          ],
          "contourcarpet": [
           {
            "colorbar": {
             "outlinewidth": 0,
             "ticks": ""
            },
            "type": "contourcarpet"
           }
          ],
          "heatmap": [
           {
            "colorbar": {
             "outlinewidth": 0,
             "ticks": ""
            },
            "colorscale": [
             [
              0,
              "#0d0887"
             ],
             [
              0.1111111111111111,
              "#46039f"
             ],
             [
              0.2222222222222222,
              "#7201a8"
             ],
             [
              0.3333333333333333,
              "#9c179e"
             ],
             [
              0.4444444444444444,
              "#bd3786"
             ],
             [
              0.5555555555555556,
              "#d8576b"
             ],
             [
              0.6666666666666666,
              "#ed7953"
             ],
             [
              0.7777777777777778,
              "#fb9f3a"
             ],
             [
              0.8888888888888888,
              "#fdca26"
             ],
             [
              1,
              "#f0f921"
             ]
            ],
            "type": "heatmap"
           }
          ],
          "heatmapgl": [
           {
            "colorbar": {
             "outlinewidth": 0,
             "ticks": ""
            },
            "colorscale": [
             [
              0,
              "#0d0887"
             ],
             [
              0.1111111111111111,
              "#46039f"
             ],
             [
              0.2222222222222222,
              "#7201a8"
             ],
             [
              0.3333333333333333,
              "#9c179e"
             ],
             [
              0.4444444444444444,
              "#bd3786"
             ],
             [
              0.5555555555555556,
              "#d8576b"
             ],
             [
              0.6666666666666666,
              "#ed7953"
             ],
             [
              0.7777777777777778,
              "#fb9f3a"
             ],
             [
              0.8888888888888888,
              "#fdca26"
             ],
             [
              1,
              "#f0f921"
             ]
            ],
            "type": "heatmapgl"
           }
          ],
          "histogram": [
           {
            "marker": {
             "colorbar": {
              "outlinewidth": 0,
              "ticks": ""
             }
            },
            "type": "histogram"
           }
          ],
          "histogram2d": [
           {
            "colorbar": {
             "outlinewidth": 0,
             "ticks": ""
            },
            "colorscale": [
             [
              0,
              "#0d0887"
             ],
             [
              0.1111111111111111,
              "#46039f"
             ],
             [
              0.2222222222222222,
              "#7201a8"
             ],
             [
              0.3333333333333333,
              "#9c179e"
             ],
             [
              0.4444444444444444,
              "#bd3786"
             ],
             [
              0.5555555555555556,
              "#d8576b"
             ],
             [
              0.6666666666666666,
              "#ed7953"
             ],
             [
              0.7777777777777778,
              "#fb9f3a"
             ],
             [
              0.8888888888888888,
              "#fdca26"
             ],
             [
              1,
              "#f0f921"
             ]
            ],
            "type": "histogram2d"
           }
          ],
          "histogram2dcontour": [
           {
            "colorbar": {
             "outlinewidth": 0,
             "ticks": ""
            },
            "colorscale": [
             [
              0,
              "#0d0887"
             ],
             [
              0.1111111111111111,
              "#46039f"
             ],
             [
              0.2222222222222222,
              "#7201a8"
             ],
             [
              0.3333333333333333,
              "#9c179e"
             ],
             [
              0.4444444444444444,
              "#bd3786"
             ],
             [
              0.5555555555555556,
              "#d8576b"
             ],
             [
              0.6666666666666666,
              "#ed7953"
             ],
             [
              0.7777777777777778,
              "#fb9f3a"
             ],
             [
              0.8888888888888888,
              "#fdca26"
             ],
             [
              1,
              "#f0f921"
             ]
            ],
            "type": "histogram2dcontour"
           }
          ],
          "mesh3d": [
           {
            "colorbar": {
             "outlinewidth": 0,
             "ticks": ""
            },
            "type": "mesh3d"
           }
          ],
          "parcoords": [
           {
            "line": {
             "colorbar": {
              "outlinewidth": 0,
              "ticks": ""
             }
            },
            "type": "parcoords"
           }
          ],
          "pie": [
           {
            "automargin": true,
            "type": "pie"
           }
          ],
          "scatter": [
           {
            "marker": {
             "colorbar": {
              "outlinewidth": 0,
              "ticks": ""
             }
            },
            "type": "scatter"
           }
          ],
          "scatter3d": [
           {
            "line": {
             "colorbar": {
              "outlinewidth": 0,
              "ticks": ""
             }
            },
            "marker": {
             "colorbar": {
              "outlinewidth": 0,
              "ticks": ""
             }
            },
            "type": "scatter3d"
           }
          ],
          "scattercarpet": [
           {
            "marker": {
             "colorbar": {
              "outlinewidth": 0,
              "ticks": ""
             }
            },
            "type": "scattercarpet"
           }
          ],
          "scattergeo": [
           {
            "marker": {
             "colorbar": {
              "outlinewidth": 0,
              "ticks": ""
             }
            },
            "type": "scattergeo"
           }
          ],
          "scattergl": [
           {
            "marker": {
             "colorbar": {
              "outlinewidth": 0,
              "ticks": ""
             }
            },
            "type": "scattergl"
           }
          ],
          "scattermapbox": [
           {
            "marker": {
             "colorbar": {
              "outlinewidth": 0,
              "ticks": ""
             }
            },
            "type": "scattermapbox"
           }
          ],
          "scatterpolar": [
           {
            "marker": {
             "colorbar": {
              "outlinewidth": 0,
              "ticks": ""
             }
            },
            "type": "scatterpolar"
           }
          ],
          "scatterpolargl": [
           {
            "marker": {
             "colorbar": {
              "outlinewidth": 0,
              "ticks": ""
             }
            },
            "type": "scatterpolargl"
           }
          ],
          "scatterternary": [
           {
            "marker": {
             "colorbar": {
              "outlinewidth": 0,
              "ticks": ""
             }
            },
            "type": "scatterternary"
           }
          ],
          "surface": [
           {
            "colorbar": {
             "outlinewidth": 0,
             "ticks": ""
            },
            "colorscale": [
             [
              0,
              "#0d0887"
             ],
             [
              0.1111111111111111,
              "#46039f"
             ],
             [
              0.2222222222222222,
              "#7201a8"
             ],
             [
              0.3333333333333333,
              "#9c179e"
             ],
             [
              0.4444444444444444,
              "#bd3786"
             ],
             [
              0.5555555555555556,
              "#d8576b"
             ],
             [
              0.6666666666666666,
              "#ed7953"
             ],
             [
              0.7777777777777778,
              "#fb9f3a"
             ],
             [
              0.8888888888888888,
              "#fdca26"
             ],
             [
              1,
              "#f0f921"
             ]
            ],
            "type": "surface"
           }
          ],
          "table": [
           {
            "cells": {
             "fill": {
              "color": "#EBF0F8"
             },
             "line": {
              "color": "white"
             }
            },
            "header": {
             "fill": {
              "color": "#C8D4E3"
             },
             "line": {
              "color": "white"
             }
            },
            "type": "table"
           }
          ]
         },
         "layout": {
          "annotationdefaults": {
           "arrowcolor": "#2a3f5f",
           "arrowhead": 0,
           "arrowwidth": 1
          },
          "autotypenumbers": "strict",
          "coloraxis": {
           "colorbar": {
            "outlinewidth": 0,
            "ticks": ""
           }
          },
          "colorscale": {
           "diverging": [
            [
             0,
             "#8e0152"
            ],
            [
             0.1,
             "#c51b7d"
            ],
            [
             0.2,
             "#de77ae"
            ],
            [
             0.3,
             "#f1b6da"
            ],
            [
             0.4,
             "#fde0ef"
            ],
            [
             0.5,
             "#f7f7f7"
            ],
            [
             0.6,
             "#e6f5d0"
            ],
            [
             0.7,
             "#b8e186"
            ],
            [
             0.8,
             "#7fbc41"
            ],
            [
             0.9,
             "#4d9221"
            ],
            [
             1,
             "#276419"
            ]
           ],
           "sequential": [
            [
             0,
             "#0d0887"
            ],
            [
             0.1111111111111111,
             "#46039f"
            ],
            [
             0.2222222222222222,
             "#7201a8"
            ],
            [
             0.3333333333333333,
             "#9c179e"
            ],
            [
             0.4444444444444444,
             "#bd3786"
            ],
            [
             0.5555555555555556,
             "#d8576b"
            ],
            [
             0.6666666666666666,
             "#ed7953"
            ],
            [
             0.7777777777777778,
             "#fb9f3a"
            ],
            [
             0.8888888888888888,
             "#fdca26"
            ],
            [
             1,
             "#f0f921"
            ]
           ],
           "sequentialminus": [
            [
             0,
             "#0d0887"
            ],
            [
             0.1111111111111111,
             "#46039f"
            ],
            [
             0.2222222222222222,
             "#7201a8"
            ],
            [
             0.3333333333333333,
             "#9c179e"
            ],
            [
             0.4444444444444444,
             "#bd3786"
            ],
            [
             0.5555555555555556,
             "#d8576b"
            ],
            [
             0.6666666666666666,
             "#ed7953"
            ],
            [
             0.7777777777777778,
             "#fb9f3a"
            ],
            [
             0.8888888888888888,
             "#fdca26"
            ],
            [
             1,
             "#f0f921"
            ]
           ]
          },
          "colorway": [
           "#636efa",
           "#EF553B",
           "#00cc96",
           "#ab63fa",
           "#FFA15A",
           "#19d3f3",
           "#FF6692",
           "#B6E880",
           "#FF97FF",
           "#FECB52"
          ],
          "font": {
           "color": "#2a3f5f"
          },
          "geo": {
           "bgcolor": "white",
           "lakecolor": "white",
           "landcolor": "#E5ECF6",
           "showlakes": true,
           "showland": true,
           "subunitcolor": "white"
          },
          "hoverlabel": {
           "align": "left"
          },
          "hovermode": "closest",
          "mapbox": {
           "style": "light"
          },
          "paper_bgcolor": "white",
          "plot_bgcolor": "#E5ECF6",
          "polar": {
           "angularaxis": {
            "gridcolor": "white",
            "linecolor": "white",
            "ticks": ""
           },
           "bgcolor": "#E5ECF6",
           "radialaxis": {
            "gridcolor": "white",
            "linecolor": "white",
            "ticks": ""
           }
          },
          "scene": {
           "xaxis": {
            "backgroundcolor": "#E5ECF6",
            "gridcolor": "white",
            "gridwidth": 2,
            "linecolor": "white",
            "showbackground": true,
            "ticks": "",
            "zerolinecolor": "white"
           },
           "yaxis": {
            "backgroundcolor": "#E5ECF6",
            "gridcolor": "white",
            "gridwidth": 2,
            "linecolor": "white",
            "showbackground": true,
            "ticks": "",
            "zerolinecolor": "white"
           },
           "zaxis": {
            "backgroundcolor": "#E5ECF6",
            "gridcolor": "white",
            "gridwidth": 2,
            "linecolor": "white",
            "showbackground": true,
            "ticks": "",
            "zerolinecolor": "white"
           }
          },
          "shapedefaults": {
           "line": {
            "color": "#2a3f5f"
           }
          },
          "ternary": {
           "aaxis": {
            "gridcolor": "white",
            "linecolor": "white",
            "ticks": ""
           },
           "baxis": {
            "gridcolor": "white",
            "linecolor": "white",
            "ticks": ""
           },
           "bgcolor": "#E5ECF6",
           "caxis": {
            "gridcolor": "white",
            "linecolor": "white",
            "ticks": ""
           }
          },
          "title": {
           "x": 0.05
          },
          "xaxis": {
           "automargin": true,
           "gridcolor": "white",
           "linecolor": "white",
           "ticks": "",
           "title": {
            "standoff": 15
           },
           "zerolinecolor": "white",
           "zerolinewidth": 2
          },
          "yaxis": {
           "automargin": true,
           "gridcolor": "white",
           "linecolor": "white",
           "ticks": "",
           "title": {
            "standoff": 15
           },
           "zerolinecolor": "white",
           "zerolinewidth": 2
          }
         }
        },
        "title": {
         "text": "IPCA - % Variação Mensal Total"
        },
        "xaxis": {
         "linecolor": "rgb(204, 204, 204)",
         "linewidth": 2,
         "showgrid": false,
         "showline": true,
         "showticklabels": true,
         "tickfont": {
          "color": "rgb(82, 82, 82)",
          "family": "Arial",
          "size": 12
         },
         "ticks": "outside"
        },
        "yaxis": {
         "showgrid": false,
         "showline": true,
         "showticklabels": true,
         "title": {
          "text": "%"
         },
         "zeroline": true
        }
       }
      }
     },
     "metadata": {}
    }
   ],
   "source": [
    "graf_plotly(df,f'01/01/1980', f'01/01/2021', 'IPCA - % Variação Mensal Total')"
   ]
  }
 ]
}