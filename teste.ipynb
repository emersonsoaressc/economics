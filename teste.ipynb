{
 "metadata": {
  "language_info": {
   "codemirror_mode": {
    "name": "ipython",
    "version": 3
   },
   "file_extension": ".py",
   "mimetype": "text/x-python",
   "name": "python",
   "nbconvert_exporter": "python",
   "pygments_lexer": "ipython3",
   "version": "3.8.5-final"
  },
  "orig_nbformat": 2,
  "kernelspec": {
   "name": "python3",
   "display_name": "Python 3",
   "language": "python"
  }
 },
 "nbformat": 4,
 "nbformat_minor": 2,
 "cells": [
  {
   "cell_type": "code",
   "execution_count": 13,
   "metadata": {},
   "outputs": [],
   "source": [
    "import pandas as pd \n",
    "import sgs\n",
    "import matplotlib.pyplot as plt\n",
    "import matplotlib\n",
    "matplotlib.rcParams['figure.figsize'] = (21,8)\n",
    "\n",
    "import plotly.graph_objects as go "
   ]
  },
  {
   "cell_type": "code",
   "execution_count": 20,
   "metadata": {},
   "outputs": [],
   "source": [
    "def df_sgs_multi(lista_sgs,ano_inicio, ano_fim):\n",
    "    df = pd.DataFrame()\n",
    "    for i in lista_sgs:\n",
    "        data_inicio = ano_inicio\n",
    "        data_fim = ano_fim\n",
    "        df1 = sgs.time_serie(i[:4], data_inicio, data_fim,True)\n",
    "        df1 = pd.DataFrame(df1)\n",
    "        df = pd.concat([df,df1], axis=1)\n",
    "    return df"
   ]
  },
  {
   "cell_type": "code",
   "execution_count": 21,
   "metadata": {},
   "outputs": [
    {
     "output_type": "execute_result",
     "data": {
      "text/plain": [
       "   codigo                             cod                      serie\n",
       "0    1635        1635-Alimentos e bebidas        Alimentos e bebidas\n",
       "1    1636                  1636-Habitação                  Habitação\n",
       "2    1637            1637-Bens domésticos            Bens domésticos\n",
       "3    1638                  1638-Vestuário                  Vestuário\n",
       "4    1639                1639-Transportes                Transportes\n",
       "5    1640                1640-Comunicação                Comunicação\n",
       "6    1641  1641-Saúde e cuidados pessoais  Saúde e cuidados pessoais\n",
       "7    1642          1642-Despesas pessoais          Despesas pessoais\n",
       "8    1643                   1643-Educação                   Educação"
      ],
      "text/html": "<div>\n<style scoped>\n    .dataframe tbody tr th:only-of-type {\n        vertical-align: middle;\n    }\n\n    .dataframe tbody tr th {\n        vertical-align: top;\n    }\n\n    .dataframe thead th {\n        text-align: right;\n    }\n</style>\n<table border=\"1\" class=\"dataframe\">\n  <thead>\n    <tr style=\"text-align: right;\">\n      <th></th>\n      <th>codigo</th>\n      <th>cod</th>\n      <th>serie</th>\n    </tr>\n  </thead>\n  <tbody>\n    <tr>\n      <th>0</th>\n      <td>1635</td>\n      <td>1635-Alimentos e bebidas</td>\n      <td>Alimentos e bebidas</td>\n    </tr>\n    <tr>\n      <th>1</th>\n      <td>1636</td>\n      <td>1636-Habitação</td>\n      <td>Habitação</td>\n    </tr>\n    <tr>\n      <th>2</th>\n      <td>1637</td>\n      <td>1637-Bens domésticos</td>\n      <td>Bens domésticos</td>\n    </tr>\n    <tr>\n      <th>3</th>\n      <td>1638</td>\n      <td>1638-Vestuário</td>\n      <td>Vestuário</td>\n    </tr>\n    <tr>\n      <th>4</th>\n      <td>1639</td>\n      <td>1639-Transportes</td>\n      <td>Transportes</td>\n    </tr>\n    <tr>\n      <th>5</th>\n      <td>1640</td>\n      <td>1640-Comunicação</td>\n      <td>Comunicação</td>\n    </tr>\n    <tr>\n      <th>6</th>\n      <td>1641</td>\n      <td>1641-Saúde e cuidados pessoais</td>\n      <td>Saúde e cuidados pessoais</td>\n    </tr>\n    <tr>\n      <th>7</th>\n      <td>1642</td>\n      <td>1642-Despesas pessoais</td>\n      <td>Despesas pessoais</td>\n    </tr>\n    <tr>\n      <th>8</th>\n      <td>1643</td>\n      <td>1643-Educação</td>\n      <td>Educação</td>\n    </tr>\n  </tbody>\n</table>\n</div>"
     },
     "metadata": {},
     "execution_count": 21
    }
   ],
   "source": [
    "lista = pd.read_csv('cod_ipca.csv', encoding='UTF-8', sep=\";\")\n",
    "lista\n"
   ]
  },
  {
   "cell_type": "code",
   "execution_count": 73,
   "metadata": {},
   "outputs": [],
   "source": [
    "def graf_plotly(lista_sgs,ano_inicio, ano_fim, titulo):\n",
    "    fig = go.Figure()\n",
    "    fig.update_layout(\n",
    "    title= f'{titulo}',\n",
    "    yaxis_title= '% de Variação Mensal',\n",
    "    )\n",
    "    df = pd.DataFrame()\n",
    "    for i in lista_sgs:\n",
    "        data_inicio = ano_inicio\n",
    "        data_fim = ano_fim\n",
    "        split = i.split(sep='-')\n",
    "        df1 = sgs.time_serie(split[0], data_inicio, data_fim,True)\n",
    "        df1 = pd.DataFrame(df1)\n",
    "        df = pd.concat([df,df1], axis=1)\n",
    "        lines = fig.add_trace(go.Scatter(x=df.index, y=df[(f'{split[0]}')], name= f\"{split[1]}\"  ))\n",
    "    return lines"
   ]
  },
  {
   "cell_type": "code",
   "execution_count": 74,
   "metadata": {},
   "outputs": [
    {
     "output_type": "error",
     "ename": "AttributeError",
     "evalue": "'float' object has no attribute 'split'",
     "traceback": [
      "\u001b[1;31m---------------------------------------------------------------------------\u001b[0m",
      "\u001b[1;31mAttributeError\u001b[0m                            Traceback (most recent call last)",
      "\u001b[1;32m<ipython-input-74-a0561a96b32d>\u001b[0m in \u001b[0;36m<module>\u001b[1;34m\u001b[0m\n\u001b[1;32m----> 1\u001b[1;33m \u001b[0mgraf_plotly\u001b[0m\u001b[1;33m(\u001b[0m\u001b[0mdf\u001b[0m\u001b[1;33m[\u001b[0m\u001b[1;34m'11-selic'\u001b[0m\u001b[1;33m]\u001b[0m\u001b[1;33m,\u001b[0m\u001b[1;34m'01/01/1980'\u001b[0m\u001b[1;33m,\u001b[0m \u001b[1;34m'01/01/2021'\u001b[0m\u001b[1;33m,\u001b[0m \u001b[1;34m'selic'\u001b[0m\u001b[1;33m)\u001b[0m\u001b[1;33m\u001b[0m\u001b[1;33m\u001b[0m\u001b[0m\n\u001b[0m",
      "\u001b[1;32m<ipython-input-73-17082f334125>\u001b[0m in \u001b[0;36mgraf_plotly\u001b[1;34m(lista_sgs, ano_inicio, ano_fim, titulo)\u001b[0m\n\u001b[0;32m      9\u001b[0m         \u001b[0mdata_inicio\u001b[0m \u001b[1;33m=\u001b[0m \u001b[0mano_inicio\u001b[0m\u001b[1;33m\u001b[0m\u001b[1;33m\u001b[0m\u001b[0m\n\u001b[0;32m     10\u001b[0m         \u001b[0mdata_fim\u001b[0m \u001b[1;33m=\u001b[0m \u001b[0mano_fim\u001b[0m\u001b[1;33m\u001b[0m\u001b[1;33m\u001b[0m\u001b[0m\n\u001b[1;32m---> 11\u001b[1;33m         \u001b[0msplit\u001b[0m \u001b[1;33m=\u001b[0m \u001b[0mi\u001b[0m\u001b[1;33m.\u001b[0m\u001b[0msplit\u001b[0m\u001b[1;33m(\u001b[0m\u001b[0msep\u001b[0m\u001b[1;33m=\u001b[0m\u001b[1;34m'-'\u001b[0m\u001b[1;33m)\u001b[0m\u001b[1;33m\u001b[0m\u001b[1;33m\u001b[0m\u001b[0m\n\u001b[0m\u001b[0;32m     12\u001b[0m         \u001b[0mdf1\u001b[0m \u001b[1;33m=\u001b[0m \u001b[0msgs\u001b[0m\u001b[1;33m.\u001b[0m\u001b[0mtime_serie\u001b[0m\u001b[1;33m(\u001b[0m\u001b[0msplit\u001b[0m\u001b[1;33m[\u001b[0m\u001b[1;36m0\u001b[0m\u001b[1;33m]\u001b[0m\u001b[1;33m,\u001b[0m \u001b[0mdata_inicio\u001b[0m\u001b[1;33m,\u001b[0m \u001b[0mdata_fim\u001b[0m\u001b[1;33m,\u001b[0m\u001b[1;32mTrue\u001b[0m\u001b[1;33m)\u001b[0m\u001b[1;33m\u001b[0m\u001b[1;33m\u001b[0m\u001b[0m\n\u001b[0;32m     13\u001b[0m         \u001b[0mdf1\u001b[0m \u001b[1;33m=\u001b[0m \u001b[0mpd\u001b[0m\u001b[1;33m.\u001b[0m\u001b[0mDataFrame\u001b[0m\u001b[1;33m(\u001b[0m\u001b[0mdf1\u001b[0m\u001b[1;33m)\u001b[0m\u001b[1;33m\u001b[0m\u001b[1;33m\u001b[0m\u001b[0m\n",
      "\u001b[1;31mAttributeError\u001b[0m: 'float' object has no attribute 'split'"
     ]
    }
   ],
   "source": [
    "graf_plotly(df['11-selic'],'01/01/1980', '01/01/2021', 'selic')"
   ]
  },
  {
   "cell_type": "code",
   "execution_count": 61,
   "metadata": {},
   "outputs": [
    {
     "output_type": "execute_result",
     "data": {
      "text/plain": [
       "'teste'"
      ]
     },
     "metadata": {},
     "execution_count": 61
    }
   ],
   "source": [
    "string = '1234-teste'\n",
    "num = string.split(sep='-')\n",
    "num[1]"
   ]
  }
 ]
}