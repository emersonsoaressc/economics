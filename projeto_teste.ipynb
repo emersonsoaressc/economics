{
 "metadata": {
  "language_info": {
   "codemirror_mode": {
    "name": "ipython",
    "version": 3
   },
   "file_extension": ".py",
   "mimetype": "text/x-python",
   "name": "python",
   "nbconvert_exporter": "python",
   "pygments_lexer": "ipython3",
   "version": "3.8.5-final"
  },
  "orig_nbformat": 2,
  "kernelspec": {
   "name": "python3",
   "display_name": "Python 3",
   "language": "python"
  }
 },
 "nbformat": 4,
 "nbformat_minor": 2,
 "cells": [
  {
   "cell_type": "code",
   "execution_count": 19,
   "metadata": {},
   "outputs": [
    {
     "output_type": "execute_result",
     "data": {
      "text/plain": [
       "'en_US.UTF-8'"
      ]
     },
     "metadata": {},
     "execution_count": 19
    }
   ],
   "source": [
    "import streamlit as st\n",
    "import numpy as np \n",
    "import pandas as pd  \n",
    "import sgs\n",
    "import plotly.graph_objects as go\n",
    "import options as opt\n",
    "import locale\n",
    "locale.setlocale(locale.LC_ALL, 'en_US.UTF-8')"
   ]
  },
  {
   "cell_type": "code",
   "execution_count": 20,
   "metadata": {},
   "outputs": [],
   "source": [
    "def df_sgs(lista_sgs,ano_inicio, ano_fim, name):\n",
    "    df = pd.DataFrame()\n",
    "    for i in lista_sgs:\n",
    "        data_inicio = ano_inicio\n",
    "        data_fim = ano_fim\n",
    "        splits = i.split(sep='-')\n",
    "        df1 = sgs.time_serie(splits[0], data_inicio, data_fim,True)\n",
    "        df1 = pd.DataFrame(df1)\n",
    "        df1 = df1.rename(columns={f'{splits[0]}':f'{splits[1]}'})\n",
    "        df = pd.concat([df,df1], axis=1)\n",
    "    return df.to_csv(f'base_csv/base_{name}.csv')"
   ]
  },
  {
   "cell_type": "code",
   "execution_count": 21,
   "metadata": {},
   "outputs": [],
   "source": [
    "def gera_base(ano_inicio, ano_fim):\n",
    "    inicio = ano_inicio\n",
    "    fim = ano_fim\n",
    "    cod_list = pd.read_csv('base_csv/cod_ipca.csv', sep=';').set_index('codigo')\n",
    "    df_sgs(cod_list['lista'], f'01/01/{inicio}', f'01/01/{fim}', 'ipca')\n",
    "    df_base = pd.read_csv('base_csv/base_ipca.csv', encoding='UTF-8', sep=',', index_col=0)\n",
    "    return df_base"
   ]
  },
  {
   "cell_type": "code",
   "execution_count": 22,
   "metadata": {},
   "outputs": [],
   "source": [
    "def graf_plotly(data_frame, titulo):\n",
    "    fig = go.Figure()\n",
    "    fig.update_layout(\n",
    "    title= f'{titulo}', \n",
    "\n",
    "    xaxis=dict(\n",
    "        showline=True,\n",
    "        showgrid=False,\n",
    "        showticklabels=True,\n",
    "        linecolor='rgb(204, 204, 204)',\n",
    "        linewidth=2,\n",
    "        ticks='outside',\n",
    "        tickfont=dict(\n",
    "            family='Arial',\n",
    "            size=12,\n",
    "            color='rgb(82, 82, 82)',\n",
    "        ),\n",
    "    ),\n",
    "    yaxis=dict(\n",
    "        title= '%',\n",
    "        showgrid=False,\n",
    "        zeroline=True,\n",
    "        showline=True,\n",
    "        showticklabels=True,\n",
    "    ),\n",
    "    autosize=True,\n",
    "    margin=dict(\n",
    "        autoexpand=True,\n",
    "        l=100,\n",
    "        r=20,\n",
    "        t=110,\n",
    "    ),\n",
    "    showlegend=True,\n",
    "    plot_bgcolor='white',\n",
    "    legend= dict(\n",
    "        font=dict(\n",
    "            family='Arial',\n",
    "            size=9)\n",
    "    )\n",
    "    )\n",
    "    count = 0\n",
    "    for i in data_frame.columns:\n",
    "        if count < 2:\n",
    "            count += 1\n",
    "            lines = fig.add_trace(go.Scatter(x=data_frame.index, y=data_frame[f'{i}'], name= f\"{i}\", mode=\"markers+lines\", visible=True))\n",
    "        elif count == 2:\n",
    "            count += 1\n",
    "            lines = fig.add_trace(go.Scatter(x=data_frame.index, y=data_frame[f'{i}'], name= f\"{i}\", mode=\"lines\", visible=True))\n",
    "        elif count >2:\n",
    "            count += 1\n",
    "            lines = fig.add_trace(go.Scatter(x=data_frame.index, y=data_frame[f'{i}'], name= f\"{i}\", mode=\"lines\", visible='legendonly'))\n",
    "    return lines"
   ]
  },
  {
   "cell_type": "code",
   "execution_count": 23,
   "metadata": {},
   "outputs": [],
   "source": [
    "def pag_ipca():\n",
    "# Fazendo a verificação do subtópico abordado\n",
    "    df_base = gera_base(1980, 2021)\n",
    "    df = pd.DataFrame(df_base['IPCA Acumulado 12 meses'])\n",
    "    graf_plotly(df,'IPCA % Acumulado em 12 meses')\n",
    "    "
   ]
  },
  {
   "cell_type": "code",
   "execution_count": 24,
   "metadata": {},
   "outputs": [],
   "source": [
    "pag_ipca()"
   ]
  }
 ]
}