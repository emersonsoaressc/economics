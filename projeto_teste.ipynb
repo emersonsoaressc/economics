{
 "metadata": {
  "language_info": {
   "codemirror_mode": {
    "name": "ipython",
    "version": 3
   },
   "file_extension": ".py",
   "mimetype": "text/x-python",
   "name": "python",
   "nbconvert_exporter": "python",
   "pygments_lexer": "ipython3",
   "version": "3.8.5-final"
  },
  "orig_nbformat": 2,
  "kernelspec": {
   "name": "python3",
   "display_name": "Python 3",
   "language": "python"
  }
 },
 "nbformat": 4,
 "nbformat_minor": 2,
 "cells": [
  {
   "cell_type": "code",
   "execution_count": 25,
   "metadata": {},
   "outputs": [],
   "source": [
    "import streamlit as st\n",
    "import numpy as np \n",
    "import pandas as pd  \n",
    "import sgs\n",
    "import plotly.graph_objects as go\n",
    "import options as opt\n"
   ]
  },
  {
   "cell_type": "code",
   "execution_count": 26,
   "metadata": {},
   "outputs": [],
   "source": [
    "def df_sgs(lista_sgs,ano_inicio, ano_fim, name):\n",
    "    df = pd.DataFrame()\n",
    "    for i in lista_sgs:\n",
    "        data_inicio = ano_inicio\n",
    "        data_fim = ano_fim\n",
    "        splits = i.split(sep='-')\n",
    "        df1 = sgs.time_serie(splits[0], data_inicio, data_fim,True)\n",
    "        df1 = pd.DataFrame(df1)\n",
    "        df1 = df1.rename(columns={f'{splits[0]}':f'{splits[1]}'})\n",
    "        df = pd.concat([df,df1], axis=1)\n",
    "    return df.to_csv(f'base_csv/base_{name}.csv')"
   ]
  },
  {
   "cell_type": "code",
   "execution_count": 27,
   "metadata": {},
   "outputs": [],
   "source": [
    "def gera_base(ano_inicio, ano_fim):\n",
    "    inicio = ano_inicio\n",
    "    fim = ano_fim\n",
    "    cod_list = pd.read_csv('base_csv/cod_ipca.csv', sep=';').set_index('codigo')\n",
    "    df_sgs(cod_list['lista'], f'01/01/{inicio}', f'01/01/{fim}', 'ipca')\n",
    "    \n",
    "    df_base = pd.read_csv('base_csv/base_ipca.csv', encoding='UTF-8', sep=',', index_col=0)\n",
    "    return df_base"
   ]
  },
  {
   "cell_type": "code",
   "execution_count": 28,
   "metadata": {},
   "outputs": [],
   "source": [
    "def graf_plotly(data_frame, titulo):\n",
    "    fig = go.Figure()\n",
    "    fig.update_layout(\n",
    "    title= f'{titulo}', \n",
    "\n",
    "    xaxis=dict(\n",
    "        showline=True,\n",
    "        showgrid=False,\n",
    "        showticklabels=True,\n",
    "        linecolor='rgb(204, 204, 204)',\n",
    "        linewidth=2,\n",
    "        ticks='outside',\n",
    "        tickfont=dict(\n",
    "            family='Arial',\n",
    "            size=12,\n",
    "            color='rgb(82, 82, 82)',\n",
    "        ),\n",
    "    ),\n",
    "    yaxis=dict(\n",
    "        title= '%',\n",
    "        showgrid=False,\n",
    "        zeroline=True,\n",
    "        showline=True,\n",
    "        showticklabels=True,\n",
    "    ),\n",
    "    autosize=True,\n",
    "    margin=dict(\n",
    "        autoexpand=True,\n",
    "        l=100,\n",
    "        r=20,\n",
    "        t=110,\n",
    "    ),\n",
    "    showlegend=True,\n",
    "    plot_bgcolor='white',\n",
    "    legend= dict(\n",
    "        font=dict(\n",
    "            family='Arial',\n",
    "            size=9)\n",
    "    )\n",
    "    )\n",
    "    count = 0\n",
    "    for i in data_frame.columns:\n",
    "        if count < 2:\n",
    "            count += 1\n",
    "            lines = fig.add_trace(go.Scatter(x=data_frame.index, y=data_frame[f'{i}'], name= f\"{i}\", mode=\"markers+lines\", visible=True))\n",
    "        elif count == 2:\n",
    "            count += 1\n",
    "            lines = fig.add_trace(go.Scatter(x=data_frame.index, y=data_frame[f'{i}'], name= f\"{i}\", mode=\"lines\", visible=True))\n",
    "        elif count >2:\n",
    "            count += 1\n",
    "            lines = fig.add_trace(go.Scatter(x=data_frame.index, y=data_frame[f'{i}'], name= f\"{i}\", mode=\"lines\", visible='legendonly'))\n",
    "    return lines"
   ]
  },
  {
   "cell_type": "code",
   "execution_count": 39,
   "metadata": {},
   "outputs": [
    {
     "output_type": "execute_result",
     "data": {
      "text/plain": [
       "            IPCA Acumulado 12 meses  Variação Mensal Total  \\\n",
       "1980-01-01                      NaN                   6.62   \n",
       "1980-02-01                      NaN                   4.62   \n",
       "1980-03-01                      NaN                   6.04   \n",
       "1980-04-01                      NaN                   5.29   \n",
       "1980-05-01                      NaN                   5.70   \n",
       "...                             ...                    ...   \n",
       "2020-08-01                     2.44                   0.24   \n",
       "2020-09-01                     3.14                   0.64   \n",
       "2020-10-01                     3.92                   0.86   \n",
       "2020-11-01                     4.31                   0.89   \n",
       "2020-12-01                     4.52                   1.35   \n",
       "\n",
       "            Alimentos e bebidas  Habitação  Bens domésticos  Vestuário  \\\n",
       "1980-01-01                  NaN        NaN              NaN        NaN   \n",
       "1980-02-01                  NaN        NaN              NaN        NaN   \n",
       "1980-03-01                  NaN        NaN              NaN        NaN   \n",
       "1980-04-01                  NaN        NaN              NaN        NaN   \n",
       "1980-05-01                  NaN        NaN              NaN        NaN   \n",
       "...                         ...        ...              ...        ...   \n",
       "2020-08-01                 0.78       0.36             0.56      -0.78   \n",
       "2020-09-01                 2.28       0.37             1.00       0.37   \n",
       "2020-10-01                 1.93       0.36             1.53       1.11   \n",
       "2020-11-01                 2.54       0.44             0.86       0.07   \n",
       "2020-12-01                 1.74       2.88             1.76       0.59   \n",
       "\n",
       "            Transportes  Comunicação  Saúde e cuidados pessoais  \\\n",
       "1980-01-01          NaN          NaN                        NaN   \n",
       "1980-02-01          NaN          NaN                        NaN   \n",
       "1980-03-01          NaN          NaN                        NaN   \n",
       "1980-04-01          NaN          NaN                        NaN   \n",
       "1980-05-01          NaN          NaN                        NaN   \n",
       "...                 ...          ...                        ...   \n",
       "2020-08-01         0.82         0.67                       0.50   \n",
       "2020-09-01         0.70         0.15                      -0.64   \n",
       "2020-10-01         1.19         0.21                       0.28   \n",
       "2020-11-01         1.33         0.29                      -0.13   \n",
       "2020-12-01         1.36         0.39                       0.40   \n",
       "\n",
       "            Despesas pessoais  Educação  \n",
       "1980-01-01                NaN       NaN  \n",
       "1980-02-01                NaN       NaN  \n",
       "1980-03-01                NaN       NaN  \n",
       "1980-04-01                NaN       NaN  \n",
       "1980-05-01                NaN       NaN  \n",
       "...                       ...       ...  \n",
       "2020-08-01              -0.01     -3.47  \n",
       "2020-09-01               0.09     -0.09  \n",
       "2020-10-01               0.19     -0.04  \n",
       "2020-11-01               0.01     -0.02  \n",
       "2020-12-01               0.65      0.48  \n",
       "\n",
       "[492 rows x 11 columns]"
      ],
      "text/html": "<div>\n<style scoped>\n    .dataframe tbody tr th:only-of-type {\n        vertical-align: middle;\n    }\n\n    .dataframe tbody tr th {\n        vertical-align: top;\n    }\n\n    .dataframe thead th {\n        text-align: right;\n    }\n</style>\n<table border=\"1\" class=\"dataframe\">\n  <thead>\n    <tr style=\"text-align: right;\">\n      <th></th>\n      <th>IPCA Acumulado 12 meses</th>\n      <th>Variação Mensal Total</th>\n      <th>Alimentos e bebidas</th>\n      <th>Habitação</th>\n      <th>Bens domésticos</th>\n      <th>Vestuário</th>\n      <th>Transportes</th>\n      <th>Comunicação</th>\n      <th>Saúde e cuidados pessoais</th>\n      <th>Despesas pessoais</th>\n      <th>Educação</th>\n    </tr>\n  </thead>\n  <tbody>\n    <tr>\n      <th>1980-01-01</th>\n      <td>NaN</td>\n      <td>6.62</td>\n      <td>NaN</td>\n      <td>NaN</td>\n      <td>NaN</td>\n      <td>NaN</td>\n      <td>NaN</td>\n      <td>NaN</td>\n      <td>NaN</td>\n      <td>NaN</td>\n      <td>NaN</td>\n    </tr>\n    <tr>\n      <th>1980-02-01</th>\n      <td>NaN</td>\n      <td>4.62</td>\n      <td>NaN</td>\n      <td>NaN</td>\n      <td>NaN</td>\n      <td>NaN</td>\n      <td>NaN</td>\n      <td>NaN</td>\n      <td>NaN</td>\n      <td>NaN</td>\n      <td>NaN</td>\n    </tr>\n    <tr>\n      <th>1980-03-01</th>\n      <td>NaN</td>\n      <td>6.04</td>\n      <td>NaN</td>\n      <td>NaN</td>\n      <td>NaN</td>\n      <td>NaN</td>\n      <td>NaN</td>\n      <td>NaN</td>\n      <td>NaN</td>\n      <td>NaN</td>\n      <td>NaN</td>\n    </tr>\n    <tr>\n      <th>1980-04-01</th>\n      <td>NaN</td>\n      <td>5.29</td>\n      <td>NaN</td>\n      <td>NaN</td>\n      <td>NaN</td>\n      <td>NaN</td>\n      <td>NaN</td>\n      <td>NaN</td>\n      <td>NaN</td>\n      <td>NaN</td>\n      <td>NaN</td>\n    </tr>\n    <tr>\n      <th>1980-05-01</th>\n      <td>NaN</td>\n      <td>5.70</td>\n      <td>NaN</td>\n      <td>NaN</td>\n      <td>NaN</td>\n      <td>NaN</td>\n      <td>NaN</td>\n      <td>NaN</td>\n      <td>NaN</td>\n      <td>NaN</td>\n      <td>NaN</td>\n    </tr>\n    <tr>\n      <th>...</th>\n      <td>...</td>\n      <td>...</td>\n      <td>...</td>\n      <td>...</td>\n      <td>...</td>\n      <td>...</td>\n      <td>...</td>\n      <td>...</td>\n      <td>...</td>\n      <td>...</td>\n      <td>...</td>\n    </tr>\n    <tr>\n      <th>2020-08-01</th>\n      <td>2.44</td>\n      <td>0.24</td>\n      <td>0.78</td>\n      <td>0.36</td>\n      <td>0.56</td>\n      <td>-0.78</td>\n      <td>0.82</td>\n      <td>0.67</td>\n      <td>0.50</td>\n      <td>-0.01</td>\n      <td>-3.47</td>\n    </tr>\n    <tr>\n      <th>2020-09-01</th>\n      <td>3.14</td>\n      <td>0.64</td>\n      <td>2.28</td>\n      <td>0.37</td>\n      <td>1.00</td>\n      <td>0.37</td>\n      <td>0.70</td>\n      <td>0.15</td>\n      <td>-0.64</td>\n      <td>0.09</td>\n      <td>-0.09</td>\n    </tr>\n    <tr>\n      <th>2020-10-01</th>\n      <td>3.92</td>\n      <td>0.86</td>\n      <td>1.93</td>\n      <td>0.36</td>\n      <td>1.53</td>\n      <td>1.11</td>\n      <td>1.19</td>\n      <td>0.21</td>\n      <td>0.28</td>\n      <td>0.19</td>\n      <td>-0.04</td>\n    </tr>\n    <tr>\n      <th>2020-11-01</th>\n      <td>4.31</td>\n      <td>0.89</td>\n      <td>2.54</td>\n      <td>0.44</td>\n      <td>0.86</td>\n      <td>0.07</td>\n      <td>1.33</td>\n      <td>0.29</td>\n      <td>-0.13</td>\n      <td>0.01</td>\n      <td>-0.02</td>\n    </tr>\n    <tr>\n      <th>2020-12-01</th>\n      <td>4.52</td>\n      <td>1.35</td>\n      <td>1.74</td>\n      <td>2.88</td>\n      <td>1.76</td>\n      <td>0.59</td>\n      <td>1.36</td>\n      <td>0.39</td>\n      <td>0.40</td>\n      <td>0.65</td>\n      <td>0.48</td>\n    </tr>\n  </tbody>\n</table>\n<p>492 rows × 11 columns</p>\n</div>"
     },
     "metadata": {},
     "execution_count": 39
    }
   ],
   "source": [
    "df_base = gera_base(1980, 2021)\n",
    "a = 2010\n",
    "b = 2021\n",
    "interval = (df_base.index >= f'{a}-01-01') & (df_base.index <= f'{b}-01-01')\n",
    "df = pd.DataFrame(df_base['IPCA Acumulado 12 meses'])\n",
    "#graf_plotly(df,'IPCA % Acumulado em 12 meses')\n",
    "df_interval = df[interval]\n",
    "df_base  "
   ]
  },
  {
   "cell_type": "code",
   "execution_count": 30,
   "metadata": {},
   "outputs": [],
   "source": [
    "pag_ipca()"
   ]
  }
 ]
}